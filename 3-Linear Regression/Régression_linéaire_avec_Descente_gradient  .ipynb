{
 "cells": [
  {
   "cell_type": "markdown",
   "id": "70914c03",
   "metadata": {},
   "source": [
    "## Implémentation de régression linéaire multiple avec Descente de gradient  \n",
    "\n"
   ]
  },
  {
   "cell_type": "markdown",
   "id": "0c80e182",
   "metadata": {},
   "source": [
    "    Réalisé Par: AKHADAM Ayoub"
   ]
  },
  {
   "cell_type": "code",
   "execution_count": 39,
   "id": "feef0bda",
   "metadata": {},
   "outputs": [],
   "source": [
    "library(ggplot2)\n",
    "library(dplyr)\n",
    "library(broom)\n",
    "library(ggpubr)\n",
    "library(RColorBrewer)"
   ]
  },
  {
   "cell_type": "markdown",
   "id": "2b6c1450",
   "metadata": {},
   "source": [
    "## Jeu de données\n",
    "\n",
    ">The Fish Market Dataset contient des informations sur les espèces de poissons courantes vendues sur les marchés. Le \n",
    "     jeu de données comprend l'espèce de poisson (species), le poids (weight), la longueur(length) , la hauteur (height) et \n",
    "     la largeur (width). \n",
    "\n",
    ">Ce jeu de données est un enregistrement de 7 espèces de poissons différentes et courantes dans les ventes de la \n",
    "    poissonnerie. Grâce à cet ensemble de données, un modèle prédictif peut être réalisé pour prédire le poids du poisson."
   ]
  },
  {
   "cell_type": "markdown",
   "id": "5fcc0b11",
   "metadata": {},
   "source": [
    "    Specie : Nom de l'espèce du poisson\n",
    "    Weight : Poids du poisson en grammes\n",
    "    Length1 : Longueur verticale en cm\n",
    "    Length2 : Longueur diagonale en cm\n",
    "    Length3 : Longueur transversale en cm\n",
    "    Height : Hauteur en cm\n",
    "    Width : Largeur diagonale en cm"
   ]
  },
  {
   "cell_type": "markdown",
   "id": "9026026c",
   "metadata": {},
   "source": [
    "### Chargement des données"
   ]
  },
  {
   "cell_type": "code",
   "execution_count": 40,
   "id": "e9b1231e",
   "metadata": {},
   "outputs": [
    {
     "data": {
      "text/html": [
       "<table class=\"dataframe\">\n",
       "<caption>A data.frame: 6 × 7</caption>\n",
       "<thead>\n",
       "\t<tr><th></th><th scope=col>Species</th><th scope=col>Weight</th><th scope=col>Length1</th><th scope=col>Length2</th><th scope=col>Length3</th><th scope=col>Height</th><th scope=col>Width</th></tr>\n",
       "\t<tr><th></th><th scope=col>&lt;chr&gt;</th><th scope=col>&lt;dbl&gt;</th><th scope=col>&lt;dbl&gt;</th><th scope=col>&lt;dbl&gt;</th><th scope=col>&lt;dbl&gt;</th><th scope=col>&lt;dbl&gt;</th><th scope=col>&lt;dbl&gt;</th></tr>\n",
       "</thead>\n",
       "<tbody>\n",
       "\t<tr><th scope=row>1</th><td>Bream</td><td>242</td><td>23.2</td><td>25.4</td><td>30.0</td><td>11.5200</td><td>4.0200</td></tr>\n",
       "\t<tr><th scope=row>2</th><td>Bream</td><td>290</td><td>24.0</td><td>26.3</td><td>31.2</td><td>12.4800</td><td>4.3056</td></tr>\n",
       "\t<tr><th scope=row>3</th><td>Bream</td><td>340</td><td>23.9</td><td>26.5</td><td>31.1</td><td>12.3778</td><td>4.6961</td></tr>\n",
       "\t<tr><th scope=row>4</th><td>Bream</td><td>363</td><td>26.3</td><td>29.0</td><td>33.5</td><td>12.7300</td><td>4.4555</td></tr>\n",
       "\t<tr><th scope=row>5</th><td>Bream</td><td>430</td><td>26.5</td><td>29.0</td><td>34.0</td><td>12.4440</td><td>5.1340</td></tr>\n",
       "\t<tr><th scope=row>6</th><td>Bream</td><td>450</td><td>26.8</td><td>29.7</td><td>34.7</td><td>13.6024</td><td>4.9274</td></tr>\n",
       "</tbody>\n",
       "</table>\n"
      ],
      "text/latex": [
       "A data.frame: 6 × 7\n",
       "\\begin{tabular}{r|lllllll}\n",
       "  & Species & Weight & Length1 & Length2 & Length3 & Height & Width\\\\\n",
       "  & <chr> & <dbl> & <dbl> & <dbl> & <dbl> & <dbl> & <dbl>\\\\\n",
       "\\hline\n",
       "\t1 & Bream & 242 & 23.2 & 25.4 & 30.0 & 11.5200 & 4.0200\\\\\n",
       "\t2 & Bream & 290 & 24.0 & 26.3 & 31.2 & 12.4800 & 4.3056\\\\\n",
       "\t3 & Bream & 340 & 23.9 & 26.5 & 31.1 & 12.3778 & 4.6961\\\\\n",
       "\t4 & Bream & 363 & 26.3 & 29.0 & 33.5 & 12.7300 & 4.4555\\\\\n",
       "\t5 & Bream & 430 & 26.5 & 29.0 & 34.0 & 12.4440 & 5.1340\\\\\n",
       "\t6 & Bream & 450 & 26.8 & 29.7 & 34.7 & 13.6024 & 4.9274\\\\\n",
       "\\end{tabular}\n"
      ],
      "text/markdown": [
       "\n",
       "A data.frame: 6 × 7\n",
       "\n",
       "| <!--/--> | Species &lt;chr&gt; | Weight &lt;dbl&gt; | Length1 &lt;dbl&gt; | Length2 &lt;dbl&gt; | Length3 &lt;dbl&gt; | Height &lt;dbl&gt; | Width &lt;dbl&gt; |\n",
       "|---|---|---|---|---|---|---|---|\n",
       "| 1 | Bream | 242 | 23.2 | 25.4 | 30.0 | 11.5200 | 4.0200 |\n",
       "| 2 | Bream | 290 | 24.0 | 26.3 | 31.2 | 12.4800 | 4.3056 |\n",
       "| 3 | Bream | 340 | 23.9 | 26.5 | 31.1 | 12.3778 | 4.6961 |\n",
       "| 4 | Bream | 363 | 26.3 | 29.0 | 33.5 | 12.7300 | 4.4555 |\n",
       "| 5 | Bream | 430 | 26.5 | 29.0 | 34.0 | 12.4440 | 5.1340 |\n",
       "| 6 | Bream | 450 | 26.8 | 29.7 | 34.7 | 13.6024 | 4.9274 |\n",
       "\n"
      ],
      "text/plain": [
       "  Species Weight Length1 Length2 Length3 Height  Width \n",
       "1 Bream   242    23.2    25.4    30.0    11.5200 4.0200\n",
       "2 Bream   290    24.0    26.3    31.2    12.4800 4.3056\n",
       "3 Bream   340    23.9    26.5    31.1    12.3778 4.6961\n",
       "4 Bream   363    26.3    29.0    33.5    12.7300 4.4555\n",
       "5 Bream   430    26.5    29.0    34.0    12.4440 5.1340\n",
       "6 Bream   450    26.8    29.7    34.7    13.6024 4.9274"
      ]
     },
     "metadata": {},
     "output_type": "display_data"
    }
   ],
   "source": [
    "fish.data <- read.csv(\"fish.csv\")\n",
    "colnames(fish.data)[1] <- \"Species\"\n",
    "head(fish.data)"
   ]
  },
  {
   "cell_type": "code",
   "execution_count": 41,
   "id": "b39b8250",
   "metadata": {},
   "outputs": [
    {
     "data": {
      "text/plain": [
       "   Species              Weight          Length1         Length2     \n",
       " Length:159         Min.   :   0.0   Min.   : 7.50   Min.   : 8.40  \n",
       " Class :character   1st Qu.: 120.0   1st Qu.:19.05   1st Qu.:21.00  \n",
       " Mode  :character   Median : 273.0   Median :25.20   Median :27.30  \n",
       "                    Mean   : 398.3   Mean   :26.25   Mean   :28.42  \n",
       "                    3rd Qu.: 650.0   3rd Qu.:32.70   3rd Qu.:35.50  \n",
       "                    Max.   :1650.0   Max.   :59.00   Max.   :63.40  \n",
       "    Length3          Height           Width      \n",
       " Min.   : 8.80   Min.   : 1.728   Min.   :1.048  \n",
       " 1st Qu.:23.15   1st Qu.: 5.945   1st Qu.:3.386  \n",
       " Median :29.40   Median : 7.786   Median :4.248  \n",
       " Mean   :31.23   Mean   : 8.971   Mean   :4.417  \n",
       " 3rd Qu.:39.65   3rd Qu.:12.366   3rd Qu.:5.585  \n",
       " Max.   :68.00   Max.   :18.957   Max.   :8.142  "
      ]
     },
     "metadata": {},
     "output_type": "display_data"
    }
   ],
   "source": [
    "summary(fish.data)"
   ]
  },
  {
   "cell_type": "markdown",
   "id": "ce5e8dc7",
   "metadata": {},
   "source": [
    "> Notre variable expliqué est le poids. Les variables explicatives sont les différentes longueurs, la \"hauteur\" et le \"largeur\"."
   ]
  },
  {
   "cell_type": "code",
   "execution_count": 42,
   "id": "e321db16",
   "metadata": {},
   "outputs": [
    {
     "data": {
      "text/html": [
       "0"
      ],
      "text/latex": [
       "0"
      ],
      "text/markdown": [
       "0"
      ],
      "text/plain": [
       "[1] 0"
      ]
     },
     "metadata": {},
     "output_type": "display_data"
    }
   ],
   "source": [
    "# Vérification s'il ya des valeurs manquantes :\n",
    "sum(is.na(fish.data))"
   ]
  },
  {
   "cell_type": "code",
   "execution_count": 20,
   "id": "72f06071",
   "metadata": {},
   "outputs": [
    {
     "data": {
      "text/html": [
       "<style>\n",
       ".list-inline {list-style: none; margin:0; padding: 0}\n",
       ".list-inline>li {display: inline-block}\n",
       ".list-inline>li:not(:last-child)::after {content: \"\\00b7\"; padding: 0 .5ex}\n",
       "</style>\n",
       "<ol class=list-inline><li>'Bream'</li><li>'Roach'</li><li>'Whitefish'</li><li>'Parkki'</li><li>'Perch'</li><li>'Pike'</li><li>'Smelt'</li></ol>\n"
      ],
      "text/latex": [
       "\\begin{enumerate*}\n",
       "\\item 'Bream'\n",
       "\\item 'Roach'\n",
       "\\item 'Whitefish'\n",
       "\\item 'Parkki'\n",
       "\\item 'Perch'\n",
       "\\item 'Pike'\n",
       "\\item 'Smelt'\n",
       "\\end{enumerate*}\n"
      ],
      "text/markdown": [
       "1. 'Bream'\n",
       "2. 'Roach'\n",
       "3. 'Whitefish'\n",
       "4. 'Parkki'\n",
       "5. 'Perch'\n",
       "6. 'Pike'\n",
       "7. 'Smelt'\n",
       "\n",
       "\n"
      ],
      "text/plain": [
       "[1] \"Bream\"     \"Roach\"     \"Whitefish\" \"Parkki\"    \"Perch\"     \"Pike\"     \n",
       "[7] \"Smelt\"    "
      ]
     },
     "metadata": {},
     "output_type": "display_data"
    }
   ],
   "source": [
    "unique(fish.data$Species)"
   ]
  },
  {
   "cell_type": "code",
   "execution_count": 6,
   "id": "5ffeaca5",
   "metadata": {},
   "outputs": [
    {
     "data": {
      "text/plain": [
       "\n",
       "    Bream    Parkki     Perch      Pike     Roach     Smelt Whitefish \n",
       "       35        11        56        17        20        14         6 "
      ]
     },
     "metadata": {},
     "output_type": "display_data"
    }
   ],
   "source": [
    "# Les différentes espèces et leur nombre :\n",
    "table(fish.data$Species)"
   ]
  },
  {
   "cell_type": "code",
   "execution_count": 21,
   "id": "92d2f8c4",
   "metadata": {},
   "outputs": [
    {
     "data": {
      "image/png": "[encoded data removed]",
      "text/plain": [
       "Plot with title \"Count of species\""
      ]
     },
     "metadata": {
      "image/png": {
       "height": 420,
       "width": 420
      }
     },
     "output_type": "display_data"
    }
   ],
   "source": [
    "coul <- brewer.pal(3, \"Set1\") \n",
    "t = table(fish.data$Species)\n",
    "barplot(t, main=\"Count of species\", xlab=\"Species\",col=coul)"
   ]
  },
  {
   "cell_type": "code",
   "execution_count": 43,
   "id": "2694f060",
   "metadata": {},
   "outputs": [
    {
     "data": {
      "image/png": "[encoded data removed]",
      "text/plain": [
       "plot without title"
      ]
     },
     "metadata": {
      "image/png": {
       "height": 420,
       "width": 420
      }
     },
     "output_type": "display_data"
    }
   ],
   "source": [
    "df <- fish.data\n",
    "df <- select(fish.data, Weight, Length1, Length2, Length3, Height, Width)\n",
    "\n",
    "# Variable expliqué\n",
    "weight <- df$Weight\n",
    "\n",
    "# Variables explicatives\n",
    "length1 <- df$Length1\n",
    "length2 <- df$Length2\n",
    "length3 <- df$Length3 \n",
    "height <- df$Height\n",
    "width <- df$Width\n",
    "\n",
    "plot(df)"
   ]
  },
  {
   "cell_type": "code",
   "execution_count": 44,
   "id": "76318ac0",
   "metadata": {},
   "outputs": [
    {
     "data": {
      "text/html": [
       "<table class=\"dataframe\">\n",
       "<caption>A matrix: 6 × 6 of type dbl</caption>\n",
       "<thead>\n",
       "\t<tr><th></th><th scope=col>Weight</th><th scope=col>Length1</th><th scope=col>Length2</th><th scope=col>Length3</th><th scope=col>Height</th><th scope=col>Width</th></tr>\n",
       "</thead>\n",
       "<tbody>\n",
       "\t<tr><th scope=row>Weight</th><td>1.00</td><td>0.92</td><td>0.92</td><td>0.92</td><td>0.72</td><td>0.89</td></tr>\n",
       "\t<tr><th scope=row>Length1</th><td>0.92</td><td>1.00</td><td>1.00</td><td>0.99</td><td>0.63</td><td>0.87</td></tr>\n",
       "\t<tr><th scope=row>Length2</th><td>0.92</td><td>1.00</td><td>1.00</td><td>0.99</td><td>0.64</td><td>0.87</td></tr>\n",
       "\t<tr><th scope=row>Length3</th><td>0.92</td><td>0.99</td><td>0.99</td><td>1.00</td><td>0.70</td><td>0.88</td></tr>\n",
       "\t<tr><th scope=row>Height</th><td>0.72</td><td>0.63</td><td>0.64</td><td>0.70</td><td>1.00</td><td>0.79</td></tr>\n",
       "\t<tr><th scope=row>Width</th><td>0.89</td><td>0.87</td><td>0.87</td><td>0.88</td><td>0.79</td><td>1.00</td></tr>\n",
       "</tbody>\n",
       "</table>\n"
      ],
      "text/latex": [
       "A matrix: 6 × 6 of type dbl\n",
       "\\begin{tabular}{r|llllll}\n",
       "  & Weight & Length1 & Length2 & Length3 & Height & Width\\\\\n",
       "\\hline\n",
       "\tWeight & 1.00 & 0.92 & 0.92 & 0.92 & 0.72 & 0.89\\\\\n",
       "\tLength1 & 0.92 & 1.00 & 1.00 & 0.99 & 0.63 & 0.87\\\\\n",
       "\tLength2 & 0.92 & 1.00 & 1.00 & 0.99 & 0.64 & 0.87\\\\\n",
       "\tLength3 & 0.92 & 0.99 & 0.99 & 1.00 & 0.70 & 0.88\\\\\n",
       "\tHeight & 0.72 & 0.63 & 0.64 & 0.70 & 1.00 & 0.79\\\\\n",
       "\tWidth & 0.89 & 0.87 & 0.87 & 0.88 & 0.79 & 1.00\\\\\n",
       "\\end{tabular}\n"
      ],
      "text/markdown": [
       "\n",
       "A matrix: 6 × 6 of type dbl\n",
       "\n",
       "| <!--/--> | Weight | Length1 | Length2 | Length3 | Height | Width |\n",
       "|---|---|---|---|---|---|---|\n",
       "| Weight | 1.00 | 0.92 | 0.92 | 0.92 | 0.72 | 0.89 |\n",
       "| Length1 | 0.92 | 1.00 | 1.00 | 0.99 | 0.63 | 0.87 |\n",
       "| Length2 | 0.92 | 1.00 | 1.00 | 0.99 | 0.64 | 0.87 |\n",
       "| Length3 | 0.92 | 0.99 | 0.99 | 1.00 | 0.70 | 0.88 |\n",
       "| Height | 0.72 | 0.63 | 0.64 | 0.70 | 1.00 | 0.79 |\n",
       "| Width | 0.89 | 0.87 | 0.87 | 0.88 | 0.79 | 1.00 |\n",
       "\n"
      ],
      "text/plain": [
       "        Weight Length1 Length2 Length3 Height Width\n",
       "Weight  1.00   0.92    0.92    0.92    0.72   0.89 \n",
       "Length1 0.92   1.00    1.00    0.99    0.63   0.87 \n",
       "Length2 0.92   1.00    1.00    0.99    0.64   0.87 \n",
       "Length3 0.92   0.99    0.99    1.00    0.70   0.88 \n",
       "Height  0.72   0.63    0.64    0.70    1.00   0.79 \n",
       "Width   0.89   0.87    0.87    0.88    0.79   1.00 "
      ]
     },
     "metadata": {},
     "output_type": "display_data"
    }
   ],
   "source": [
    "### Matrice de correlation\n",
    "round(cor(df), digits= 2)"
   ]
  },
  {
   "cell_type": "markdown",
   "id": "ceb332f5",
   "metadata": {},
   "source": [
    "> La plupart des coeffecients de correlation entre les variables est proches de 1 , donc il y a une forte relation entre les variables."
   ]
  },
  {
   "cell_type": "markdown",
   "id": "7671975c",
   "metadata": {},
   "source": [
    "## Modèle"
   ]
  },
  {
   "cell_type": "code",
   "execution_count": 45,
   "id": "4c4bee3b",
   "metadata": {},
   "outputs": [],
   "source": [
    "fit <- lm(weight ~  + length1 + length2 + length3 + height + width, data=df)"
   ]
  },
  {
   "cell_type": "code",
   "execution_count": 46,
   "id": "ecd6a927",
   "metadata": {},
   "outputs": [
    {
     "data": {
      "text/plain": [
       "\n",
       "Call:\n",
       "lm(formula = weight ~ +length1 + length2 + length3 + height + \n",
       "    width, data = df)\n",
       "\n",
       "Residuals:\n",
       "    Min      1Q  Median      3Q     Max \n",
       "-243.69  -65.10  -25.52   57.98  447.25 \n",
       "\n",
       "Coefficients:\n",
       "            Estimate Std. Error t value Pr(>|t|)    \n",
       "(Intercept) -499.587     29.572 -16.894  < 2e-16 ***\n",
       "length1       62.355     40.209   1.551  0.12302    \n",
       "length2       -6.527     41.759  -0.156  0.87601    \n",
       "length3      -29.026     17.353  -1.673  0.09643 .  \n",
       "height        28.297      8.729   3.242  0.00146 ** \n",
       "width         22.473     20.372   1.103  0.27169    \n",
       "---\n",
       "Signif. codes:  0 '***' 0.001 '**' 0.01 '*' 0.05 '.' 0.1 ' ' 1\n",
       "\n",
       "Residual standard error: 123.2 on 153 degrees of freedom\n",
       "Multiple R-squared:  0.8853,\tAdjusted R-squared:  0.8815 \n",
       "F-statistic: 236.2 on 5 and 153 DF,  p-value: < 2.2e-16\n"
      ]
     },
     "metadata": {},
     "output_type": "display_data"
    }
   ],
   "source": [
    "summary(fit)"
   ]
  },
  {
   "cell_type": "markdown",
   "id": "b0b263ec",
   "metadata": {},
   "source": [
    ">Dans notre exemple, on peut voir que p-value est < 2.2e-16, ce qui est hautement significatif. Cela signifie qu'au moins une des variables prédictives est liée à la variable weight."
   ]
  },
  {
   "cell_type": "code",
   "execution_count": 135,
   "id": "fea94783",
   "metadata": {},
   "outputs": [
    {
     "name": "stdout",
     "output_type": "stream",
     "text": [
      "       1 \n",
      "326.8161 \n",
      "[1] 242\n"
     ]
    }
   ],
   "source": [
    "# Check the results for the first data \n",
    "data_to_predict <- data.frame(length1=length1[1], length2=length2[1], length3=length3[1], height=height[1], width=width[1])\n",
    "\n",
    "# Predicted value\n",
    "print(predict(fit, data_to_predict))\n",
    "\n",
    "# Real value\n",
    "print(weight[1])"
   ]
  },
  {
   "cell_type": "code",
   "execution_count": 48,
   "id": "47984433",
   "metadata": {},
   "outputs": [
    {
     "data": {
      "image/png": "[encoded data removed]",
      "text/plain": [
       "plot without title"
      ]
     },
     "metadata": {
      "image/png": {
       "height": 420,
       "width": 420
      }
     },
     "output_type": "display_data"
    }
   ],
   "source": [
    "pred = predict(fit,df)\n",
    "act = weight\n",
    "\n",
    "tst = data.frame(Species = fish.data$Species,prediction = pred,actual = act)\n",
    "tst = mutate(tst,delta = prediction - actual)\n",
    "\n",
    "ggplot(tst ,\n",
    "       aes(x=actual,\n",
    "           y=prediction)\n",
    "      )+ geom_point() + geom_abline(intercept = 0, slope = 1, linetype=\"dashed\")+annotate(geom=\"text\", x=200, y=900,\n",
    "        label=paste(\"\"),color=\"black\")"
   ]
  },
  {
   "cell_type": "markdown",
   "id": "0913d766",
   "metadata": {},
   "source": [
    "## Descente Gradient  "
   ]
  },
  {
   "cell_type": "code",
   "execution_count": 49,
   "id": "cc852d7a",
   "metadata": {},
   "outputs": [],
   "source": [
    "GradD <- function(x, y, alpha = 0.0006, epsilon = 10^-10, max_iter= 500){\n",
    "  iter <- 0\n",
    "  i <- 0\n",
    "  x <- cbind(1, x)\n",
    "    \n",
    "  theta <- matrix(0,ncol(x),1)\n",
    "  \n",
    "    \n",
    "    cost <- (1/(2*nrow(x))) * t(x %*% theta - y) %*% (x %*% theta - y)\n",
    "  delta <- 1\n",
    "    \n",
    "  while(delta > epsilon && i < max_iter){\n",
    "      \n",
    "    i <- i + 1\n",
    "    theta <- theta - (alpha / nrow(x)) * (t(x) %*% (x %*% theta - y))\n",
    "    cval <- (1/(2*nrow(x))) * t(x %*% theta - y) %*% (x %*% theta - y)\n",
    "    cost <- append(cost, cval)\n",
    "    delta <- abs(cost[i+1] - cost[i])\n",
    "    if((cost[i+1] - cost[i]) > 0){\n",
    "      print(\"The cost is increasing.  Try reducing alpha.\")\n",
    "      return()\n",
    "    }\n",
    "    iter <- append(iter, i)\n",
    "  }\n",
    "  print(sprintf(\"Completed in %i iterations.\", i))\n",
    "  print(sprintf(\"Final cost %f iterations.\", cval))\n",
    "  plot(cost, xlab=\"iteration\", ylab=\"cost\")\n",
    "  return(theta)\n",
    "}"
   ]
  },
  {
   "cell_type": "code",
   "execution_count": 171,
   "id": "52778bf5",
   "metadata": {},
   "outputs": [
    {
     "name": "stdout",
     "output_type": "stream",
     "text": [
      "[1] \"Completed in 10000 iterations.\"\n",
      "[1] \"Final cost 23301.057174 iterations.\"\n"
     ]
    },
    {
     "data": {
      "text/html": [
       "<table class=\"dataframe\">\n",
       "<caption>A matrix: 6 × 1 of type dbl</caption>\n",
       "<tbody>\n",
       "\t<tr><th scope=row></th><td>-2.821600</td></tr>\n",
       "\t<tr><th scope=row>length1</th><td> 4.949946</td></tr>\n",
       "\t<tr><th scope=row>length2</th><td> 4.895675</td></tr>\n",
       "\t<tr><th scope=row>length3</th><td> 4.671264</td></tr>\n",
       "\t<tr><th scope=row>height</th><td> 4.403201</td></tr>\n",
       "\t<tr><th scope=row>width</th><td> 1.424535</td></tr>\n",
       "</tbody>\n",
       "</table>\n"
      ],
      "text/latex": [
       "A matrix: 6 × 1 of type dbl\n",
       "\\begin{tabular}{r|l}\n",
       "\t & -2.821600\\\\\n",
       "\tlength1 &  4.949946\\\\\n",
       "\tlength2 &  4.895675\\\\\n",
       "\tlength3 &  4.671264\\\\\n",
       "\theight &  4.403201\\\\\n",
       "\twidth &  1.424535\\\\\n",
       "\\end{tabular}\n"
      ],
      "text/markdown": [
       "\n",
       "A matrix: 6 × 1 of type dbl\n",
       "\n",
       "| <!----> | -2.821600 |\n",
       "| length1 |  4.949946 |\n",
       "| length2 |  4.895675 |\n",
       "| length3 |  4.671264 |\n",
       "| height |  4.403201 |\n",
       "| width |  1.424535 |\n",
       "\n"
      ],
      "text/plain": [
       "        [,1]     \n",
       "        -2.821600\n",
       "length1  4.949946\n",
       "length2  4.895675\n",
       "length3  4.671264\n",
       "height   4.403201\n",
       "width    1.424535"
      ]
     },
     "metadata": {},
     "output_type": "display_data"
    },
    {
     "data": {
      "image/png": "[encoded data removed]",
      "text/plain": [
       "plot without title"
      ]
     },
     "metadata": {
      "image/png": {
       "height": 420,
       "width": 420
      }
     },
     "output_type": "display_data"
    }
   ],
   "source": [
    "x = cbind(length1, length2, length3, height, width)\n",
    "y = matrix(weight,nrow = length(weight), ncol=1)\n",
    "\n",
    "#theta <- GradD(x, y, alpha = 0.0000006, epsilon = 10^-10, max_iter = 10000)\n",
    "theta <- GradD(x, y, alpha = 0.000005, epsilon = 10^-10, max_iter = 10000)\n",
    "theta"
   ]
  },
  {
   "cell_type": "code",
   "execution_count": 172,
   "id": "b2cfef7a",
   "metadata": {},
   "outputs": [
    {
     "name": "stdout",
     "output_type": "stream",
     "text": [
      "[1] 454.7514\n",
      "[1] 242\n"
     ]
    }
   ],
   "source": [
    "# Check the results for the first data \n",
    "\n",
    "h <- theta[1] + theta[2]* length1[1] + theta[3]* length2[1] + theta[3]*length3[1] + theta[4]*height[1] + theta[5]*width[1]\n",
    "\n",
    "# Predicted value\n",
    "print(h)\n",
    "\n",
    "# Real value\n",
    "print(weight[1])\n"
   ]
  },
  {
   "cell_type": "markdown",
   "id": "61634ddc",
   "metadata": {},
   "source": [
    ">On trouve pas des bonnes résultats."
   ]
  }
 ],
 "metadata": {
  "kernelspec": {
   "display_name": "R",
   "language": "R",
   "name": "ir"
  },
  "language_info": {
   "codemirror_mode": "r",
   "file_extension": ".r",
   "mimetype": "text/x-r-source",
   "name": "R",
   "pygments_lexer": "r",
   "version": "4.0.5"
  }
 },
 "nbformat": 4,
 "nbformat_minor": 5
}
