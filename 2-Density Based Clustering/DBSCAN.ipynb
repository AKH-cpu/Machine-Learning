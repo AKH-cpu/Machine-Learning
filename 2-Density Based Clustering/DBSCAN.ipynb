{
 "cells": [
  {
   "cell_type": "markdown",
   "id": "fcd83d6a",
   "metadata": {},
   "source": [
    "<div class=\"alert\" style=\"background-color:#fff; color:white; padding:0px 10px; border-radius:5px;\">\n",
    "    <h1 style='margin:15px 15px; color:#4B0082; font-size:40px'> Density Based Clustering</h1>\n",
    "    <h1 style='margin:15px 15px; color:#000; font-size:15px'>AKHADAM Ayoub</h1>\n",
    "   \n",
    "</div>\n",
    "    \n",
    "    \n",
    "\n",
    "    \n",
    "    04/11/2021\n",
    "    \n",
    "    "
   ]
  },
  {
   "cell_type": "code",
   "execution_count": 57,
   "id": "b6e5a48f",
   "metadata": {},
   "outputs": [],
   "source": [
    "options(warn=-1)\n",
    "library(fpc)\n",
    "library(dbscan)\n",
    "library(factoextra)"
   ]
  },
  {
   "cell_type": "markdown",
   "id": "f9a81b65",
   "metadata": {},
   "source": [
    "<div class=\"alert alert-info\" style=\"background-color:#5d3a8e; color:white; padding:0px 10px; border-radius:5px;\"><h2 style='margin:10px 5px'>Chargement des données</h2>\n",
    "</div>\n",
    "\n",
    "    Le lien vers le jeu des données : https://www.kaggle.com/shwetabh123/mall-customers\n",
    "    \n",
    "    Il s'agit de données sur les clients qui se rendent dans le centre commercial d'un supermarché.\n",
    "    Elles peuvent être utilisées pour la segmentation de la clientèle. Il y a 200 observations (clients)\n",
    "    et aucune donnée manquante.\n",
    "\n",
    "    Il se compose de quatre colonnes:\n",
    "\n",
    "    - CustomerID est le numéro d'identification du client.\n",
    "    - Gender est le sexe féminin et masculin.\n",
    "    - Age est l'âge des clients.\n",
    "    - Revenu annuel est le revenu annuel des clients en milliers de dollars.\n",
    "    - Spending Score (1-100) est le score de dépense attribué par le centre commercial en fonction \n",
    "    du comportement d'achat du client.\n"
   ]
  },
  {
   "cell_type": "code",
   "execution_count": 64,
   "id": "66921154",
   "metadata": {},
   "outputs": [],
   "source": [
    "data = read.csv(\"Mall_Customers.csv\")"
   ]
  },
  {
   "cell_type": "code",
   "execution_count": 63,
   "id": "567310cd",
   "metadata": {},
   "outputs": [
    {
     "data": {
      "text/html": [
       "<table class=\"dataframe\">\n",
       "<caption>A data.frame: 6 × 5</caption>\n",
       "<thead>\n",
       "\t<tr><th></th><th scope=col>CustomerID</th><th scope=col>Gender</th><th scope=col>Age</th><th scope=col>Annual.Income..k..</th><th scope=col>Spending.Score..1.100.</th></tr>\n",
       "\t<tr><th></th><th scope=col>&lt;int&gt;</th><th scope=col>&lt;chr&gt;</th><th scope=col>&lt;int&gt;</th><th scope=col>&lt;int&gt;</th><th scope=col>&lt;int&gt;</th></tr>\n",
       "</thead>\n",
       "<tbody>\n",
       "\t<tr><th scope=row>1</th><td>1</td><td>Male  </td><td>19</td><td>15</td><td>39</td></tr>\n",
       "\t<tr><th scope=row>2</th><td>2</td><td>Male  </td><td>21</td><td>15</td><td>81</td></tr>\n",
       "\t<tr><th scope=row>3</th><td>3</td><td>Female</td><td>20</td><td>16</td><td> 6</td></tr>\n",
       "\t<tr><th scope=row>4</th><td>4</td><td>Female</td><td>23</td><td>16</td><td>77</td></tr>\n",
       "\t<tr><th scope=row>5</th><td>5</td><td>Female</td><td>31</td><td>17</td><td>40</td></tr>\n",
       "\t<tr><th scope=row>6</th><td>6</td><td>Female</td><td>22</td><td>17</td><td>76</td></tr>\n",
       "</tbody>\n",
       "</table>\n"
      ],
      "text/latex": [
       "A data.frame: 6 × 5\n",
       "\\begin{tabular}{r|lllll}\n",
       "  & CustomerID & Gender & Age & Annual.Income..k.. & Spending.Score..1.100.\\\\\n",
       "  & <int> & <chr> & <int> & <int> & <int>\\\\\n",
       "\\hline\n",
       "\t1 & 1 & Male   & 19 & 15 & 39\\\\\n",
       "\t2 & 2 & Male   & 21 & 15 & 81\\\\\n",
       "\t3 & 3 & Female & 20 & 16 &  6\\\\\n",
       "\t4 & 4 & Female & 23 & 16 & 77\\\\\n",
       "\t5 & 5 & Female & 31 & 17 & 40\\\\\n",
       "\t6 & 6 & Female & 22 & 17 & 76\\\\\n",
       "\\end{tabular}\n"
      ],
      "text/markdown": [
       "\n",
       "A data.frame: 6 × 5\n",
       "\n",
       "| <!--/--> | CustomerID &lt;int&gt; | Gender &lt;chr&gt; | Age &lt;int&gt; | Annual.Income..k.. &lt;int&gt; | Spending.Score..1.100. &lt;int&gt; |\n",
       "|---|---|---|---|---|---|\n",
       "| 1 | 1 | Male   | 19 | 15 | 39 |\n",
       "| 2 | 2 | Male   | 21 | 15 | 81 |\n",
       "| 3 | 3 | Female | 20 | 16 |  6 |\n",
       "| 4 | 4 | Female | 23 | 16 | 77 |\n",
       "| 5 | 5 | Female | 31 | 17 | 40 |\n",
       "| 6 | 6 | Female | 22 | 17 | 76 |\n",
       "\n"
      ],
      "text/plain": [
       "  CustomerID Gender Age Annual.Income..k.. Spending.Score..1.100.\n",
       "1 1          Male   19  15                 39                    \n",
       "2 2          Male   21  15                 81                    \n",
       "3 3          Female 20  16                  6                    \n",
       "4 4          Female 23  16                 77                    \n",
       "5 5          Female 31  17                 40                    \n",
       "6 6          Female 22  17                 76                    "
      ]
     },
     "metadata": {},
     "output_type": "display_data"
    }
   ],
   "source": [
    "head(data)"
   ]
  },
  {
   "cell_type": "markdown",
   "id": "84a7944c",
   "metadata": {},
   "source": [
    "    Nous ne considérerons que deux attributs mesurés (l'âge et le revenu annuel)."
   ]
  },
  {
   "cell_type": "code",
   "execution_count": 5,
   "id": "9795d01f",
   "metadata": {},
   "outputs": [
    {
     "data": {
      "text/html": [
       "<table class=\"dataframe\">\n",
       "<caption>A data.frame: 6 × 2</caption>\n",
       "<thead>\n",
       "\t<tr><th></th><th scope=col>Age</th><th scope=col>Annual.Income..k..</th></tr>\n",
       "\t<tr><th></th><th scope=col>&lt;int&gt;</th><th scope=col>&lt;int&gt;</th></tr>\n",
       "</thead>\n",
       "<tbody>\n",
       "\t<tr><th scope=row>1</th><td>19</td><td>15</td></tr>\n",
       "\t<tr><th scope=row>2</th><td>21</td><td>15</td></tr>\n",
       "\t<tr><th scope=row>3</th><td>20</td><td>16</td></tr>\n",
       "\t<tr><th scope=row>4</th><td>23</td><td>16</td></tr>\n",
       "\t<tr><th scope=row>5</th><td>31</td><td>17</td></tr>\n",
       "\t<tr><th scope=row>6</th><td>22</td><td>17</td></tr>\n",
       "</tbody>\n",
       "</table>\n"
      ],
      "text/latex": [
       "A data.frame: 6 × 2\n",
       "\\begin{tabular}{r|ll}\n",
       "  & Age & Annual.Income..k..\\\\\n",
       "  & <int> & <int>\\\\\n",
       "\\hline\n",
       "\t1 & 19 & 15\\\\\n",
       "\t2 & 21 & 15\\\\\n",
       "\t3 & 20 & 16\\\\\n",
       "\t4 & 23 & 16\\\\\n",
       "\t5 & 31 & 17\\\\\n",
       "\t6 & 22 & 17\\\\\n",
       "\\end{tabular}\n"
      ],
      "text/markdown": [
       "\n",
       "A data.frame: 6 × 2\n",
       "\n",
       "| <!--/--> | Age &lt;int&gt; | Annual.Income..k.. &lt;int&gt; |\n",
       "|---|---|---|\n",
       "| 1 | 19 | 15 |\n",
       "| 2 | 21 | 15 |\n",
       "| 3 | 20 | 16 |\n",
       "| 4 | 23 | 16 |\n",
       "| 5 | 31 | 17 |\n",
       "| 6 | 22 | 17 |\n",
       "\n"
      ],
      "text/plain": [
       "  Age Annual.Income..k..\n",
       "1 19  15                \n",
       "2 21  15                \n",
       "3 20  16                \n",
       "4 23  16                \n",
       "5 31  17                \n",
       "6 22  17                "
      ]
     },
     "metadata": {},
     "output_type": "display_data"
    }
   ],
   "source": [
    "customer = data[3:4]\n",
    "head(customer)"
   ]
  },
  {
   "cell_type": "markdown",
   "id": "8ecf6cb0",
   "metadata": {},
   "source": [
    "####  Détermination de la valeur optimale d'epselon (eps)"
   ]
  },
  {
   "cell_type": "code",
   "execution_count": 59,
   "id": "ffbc5131",
   "metadata": {},
   "outputs": [
    {
     "data": {
      "image/png": "[encoded data removed]",
      "text/plain": [
       "plot without title"
      ]
     },
     "metadata": {
      "image/png": {
       "height": 420,
       "width": 420
      }
     },
     "output_type": "display_data"
    }
   ],
   "source": [
    "kNNdistplot(customer, k=2)\n",
    "abline(h=0.4, col=\"red\")"
   ]
  },
  {
   "cell_type": "markdown",
   "id": "32a266a5",
   "metadata": {},
   "source": [
    "<div class=\"alert alert-info\" style=\"background-color:#5d3a8e; color:white; padding:0px 10px; border-radius:5px;\">\n",
    "<h2 style='margin:10px 5px'>DBSCAN</h2>\n",
    "</div>\n",
    "\n",
    "    dbscan(data, eps, minPts)"
   ]
  },
  {
   "cell_type": "code",
   "execution_count": 36,
   "id": "90dcd878",
   "metadata": {},
   "outputs": [
    {
     "data": {
      "text/plain": [
       "DBSCAN clustering for 200 objects.\n",
       "Parameters: eps = 0.4, minPts = 2\n",
       "The clustering contains 4 cluster(s) and 3 noise points.\n",
       "\n",
       "  0   1   2   3   4 \n",
       "  3 191   2   2   2 \n",
       "\n",
       "Available fields: cluster, eps, minPts"
      ]
     },
     "metadata": {},
     "output_type": "display_data"
    }
   ],
   "source": [
    "set.seed(123)\n",
    "res.db <- dbscan::dbscan(customer, 0.4, 2)"
   ]
  },
  {
   "cell_type": "markdown",
   "id": "7978970b",
   "metadata": {},
   "source": [
    "       DBSCAN a trouvé 4 clusters et 3 points bruit."
   ]
  },
  {
   "cell_type": "markdown",
   "id": "7724d3bf",
   "metadata": {},
   "source": [
    "#### cluster visualisation"
   ]
  },
  {
   "cell_type": "code",
   "execution_count": 58,
   "id": "80ae548c",
   "metadata": {},
   "outputs": [
    {
     "data": {
      "image/png": "[encoded data removed]",
      "text/plain": [
       "plot without title"
      ]
     },
     "metadata": {
      "image/png": {
       "height": 420,
       "width": 420
      }
     },
     "output_type": "display_data"
    }
   ],
   "source": [
    "fviz_cluster(res.db, customer, geom = \"point\")"
   ]
  },
  {
   "cell_type": "markdown",
   "id": "47913517",
   "metadata": {},
   "source": [
    "    Les points en noir sont des outliers."
   ]
  }
 ],
 "metadata": {
  "kernelspec": {
   "display_name": "R",
   "language": "R",
   "name": "ir"
  },
  "language_info": {
   "codemirror_mode": "r",
   "file_extension": ".r",
   "mimetype": "text/x-r-source",
   "name": "R",
   "pygments_lexer": "r",
   "version": "4.0.5"
  }
 },
 "nbformat": 4,
 "nbformat_minor": 5
}
