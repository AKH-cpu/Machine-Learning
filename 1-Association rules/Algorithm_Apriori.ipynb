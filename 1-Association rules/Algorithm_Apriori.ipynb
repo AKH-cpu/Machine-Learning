{
 "cells": [
  {
   "cell_type": "markdown",
   "id": "e46ec8c2",
   "metadata": {},
   "source": [
    "\n",
    "<div class=\"alert\" style=\"background-color:#fff; color:white; padding:0px 10px; border-radius:5px;\">\n",
    "    <h1 style='margin:15px 15px; color:#4B0082; font-size:40px'>Algorithm Apriori</h1>\n",
    "    <h1 style='margin:15px 15px; color:#000; font-size:15px'>Realized by: AKHADAM Ayoub</h1>\n",
    "   \n",
    "</div>\n",
    "    \n",
    "    \n",
    "\n",
    "    \n",
    "    04/11/2021\n",
    "    \n",
    "    "
   ]
  },
  {
   "cell_type": "markdown",
   "id": "c7a100d3",
   "metadata": {},
   "source": [
    "    The nursery school database is derived from a hierarchical decision model originally developed to\n",
    "    originally developed to rank preschool applications.\n",
    "    The final decision depended on three sub-problems:\n",
    "\n",
    "    - parents' occupation and the child's nursery, family structure.\n",
    "    - the structure and financial situation of the family\n",
    "    - the social and health image of the family.\n",
    "    \n",
    "    The crèche database contains examples where the structural information has been \n",
    "    structural information has been removed, i.e., it links the crèche directly to \n",
    "    the crèche to the eight input attributes: parents, has_nurs, form, children, housing, \n",
    "    finance, social, health.\n"
   ]
  },
  {
   "cell_type": "code",
   "execution_count": 70,
   "id": "27340de7",
   "metadata": {},
   "outputs": [],
   "source": [
    "library(arules)\n",
    "library(arulesViz)\n",
    "library(RColorBrewer)\n",
    "\n",
    "options(warn=-1)"
   ]
  },
  {
   "cell_type": "code",
   "execution_count": 1,
   "id": "73ce0c55",
   "metadata": {},
   "outputs": [],
   "source": [
    "nursery <-read.csv(\"nursery.csv\")"
   ]
  },
  {
   "cell_type": "code",
   "execution_count": 72,
   "id": "4df4ab2a",
   "metadata": {},
   "outputs": [
    {
     "data": {
      "text/html": [
       "<table class=\"dataframe\">\n",
       "<caption>A data.frame: 6 × 9</caption>\n",
       "<thead>\n",
       "\t<tr><th></th><th scope=col>usual</th><th scope=col>proper</th><th scope=col>complete</th><th scope=col>X1</th><th scope=col>convenient</th><th scope=col>convenient.1</th><th scope=col>nonprob</th><th scope=col>recommended</th><th scope=col>recommend</th></tr>\n",
       "\t<tr><th></th><th scope=col>&lt;chr&gt;</th><th scope=col>&lt;chr&gt;</th><th scope=col>&lt;chr&gt;</th><th scope=col>&lt;chr&gt;</th><th scope=col>&lt;chr&gt;</th><th scope=col>&lt;chr&gt;</th><th scope=col>&lt;chr&gt;</th><th scope=col>&lt;chr&gt;</th><th scope=col>&lt;chr&gt;</th></tr>\n",
       "</thead>\n",
       "<tbody>\n",
       "\t<tr><th scope=row>1</th><td>usual</td><td>proper</td><td>complete</td><td>1</td><td>convenient</td><td>convenient</td><td>nonprob      </td><td>priority   </td><td>priority </td></tr>\n",
       "\t<tr><th scope=row>2</th><td>usual</td><td>proper</td><td>complete</td><td>1</td><td>convenient</td><td>convenient</td><td>nonprob      </td><td>not_recom  </td><td>not_recom</td></tr>\n",
       "\t<tr><th scope=row>3</th><td>usual</td><td>proper</td><td>complete</td><td>1</td><td>convenient</td><td>convenient</td><td>slightly_prob</td><td>recommended</td><td>recommend</td></tr>\n",
       "\t<tr><th scope=row>4</th><td>usual</td><td>proper</td><td>complete</td><td>1</td><td>convenient</td><td>convenient</td><td>slightly_prob</td><td>priority   </td><td>priority </td></tr>\n",
       "\t<tr><th scope=row>5</th><td>usual</td><td>proper</td><td>complete</td><td>1</td><td>convenient</td><td>convenient</td><td>slightly_prob</td><td>not_recom  </td><td>not_recom</td></tr>\n",
       "\t<tr><th scope=row>6</th><td>usual</td><td>proper</td><td>complete</td><td>1</td><td>convenient</td><td>convenient</td><td>problematic  </td><td>recommended</td><td>priority </td></tr>\n",
       "</tbody>\n",
       "</table>\n"
      ],
      "text/latex": [
       "A data.frame: 6 × 9\n",
       "\\begin{tabular}{r|lllllllll}\n",
       "  & usual & proper & complete & X1 & convenient & convenient.1 & nonprob & recommended & recommend\\\\\n",
       "  & <chr> & <chr> & <chr> & <chr> & <chr> & <chr> & <chr> & <chr> & <chr>\\\\\n",
       "\\hline\n",
       "\t1 & usual & proper & complete & 1 & convenient & convenient & nonprob       & priority    & priority \\\\\n",
       "\t2 & usual & proper & complete & 1 & convenient & convenient & nonprob       & not\\_recom   & not\\_recom\\\\\n",
       "\t3 & usual & proper & complete & 1 & convenient & convenient & slightly\\_prob & recommended & recommend\\\\\n",
       "\t4 & usual & proper & complete & 1 & convenient & convenient & slightly\\_prob & priority    & priority \\\\\n",
       "\t5 & usual & proper & complete & 1 & convenient & convenient & slightly\\_prob & not\\_recom   & not\\_recom\\\\\n",
       "\t6 & usual & proper & complete & 1 & convenient & convenient & problematic   & recommended & priority \\\\\n",
       "\\end{tabular}\n"
      ],
      "text/markdown": [
       "\n",
       "A data.frame: 6 × 9\n",
       "\n",
       "| <!--/--> | usual &lt;chr&gt; | proper &lt;chr&gt; | complete &lt;chr&gt; | X1 &lt;chr&gt; | convenient &lt;chr&gt; | convenient.1 &lt;chr&gt; | nonprob &lt;chr&gt; | recommended &lt;chr&gt; | recommend &lt;chr&gt; |\n",
       "|---|---|---|---|---|---|---|---|---|---|\n",
       "| 1 | usual | proper | complete | 1 | convenient | convenient | nonprob       | priority    | priority  |\n",
       "| 2 | usual | proper | complete | 1 | convenient | convenient | nonprob       | not_recom   | not_recom |\n",
       "| 3 | usual | proper | complete | 1 | convenient | convenient | slightly_prob | recommended | recommend |\n",
       "| 4 | usual | proper | complete | 1 | convenient | convenient | slightly_prob | priority    | priority  |\n",
       "| 5 | usual | proper | complete | 1 | convenient | convenient | slightly_prob | not_recom   | not_recom |\n",
       "| 6 | usual | proper | complete | 1 | convenient | convenient | problematic   | recommended | priority  |\n",
       "\n"
      ],
      "text/plain": [
       "  usual proper complete X1 convenient convenient.1 nonprob       recommended\n",
       "1 usual proper complete 1  convenient convenient   nonprob       priority   \n",
       "2 usual proper complete 1  convenient convenient   nonprob       not_recom  \n",
       "3 usual proper complete 1  convenient convenient   slightly_prob recommended\n",
       "4 usual proper complete 1  convenient convenient   slightly_prob priority   \n",
       "5 usual proper complete 1  convenient convenient   slightly_prob not_recom  \n",
       "6 usual proper complete 1  convenient convenient   problematic   recommended\n",
       "  recommend\n",
       "1 priority \n",
       "2 not_recom\n",
       "3 recommend\n",
       "4 priority \n",
       "5 not_recom\n",
       "6 priority "
      ]
     },
     "metadata": {},
     "output_type": "display_data"
    }
   ],
   "source": [
    "head(nursery)"
   ]
  },
  {
   "cell_type": "code",
   "execution_count": 73,
   "id": "1767251b",
   "metadata": {},
   "outputs": [
    {
     "data": {
      "text/html": [
       "<table class=\"dataframe\">\n",
       "<caption>A data.frame: 6 × 9</caption>\n",
       "<thead>\n",
       "\t<tr><th></th><th scope=col>Parents</th><th scope=col>Has_nurs</th><th scope=col>Form</th><th scope=col>Children</th><th scope=col>Housing</th><th scope=col>Finance</th><th scope=col>Social</th><th scope=col>Health</th><th scope=col>Class</th></tr>\n",
       "\t<tr><th></th><th scope=col>&lt;chr&gt;</th><th scope=col>&lt;chr&gt;</th><th scope=col>&lt;chr&gt;</th><th scope=col>&lt;chr&gt;</th><th scope=col>&lt;chr&gt;</th><th scope=col>&lt;chr&gt;</th><th scope=col>&lt;chr&gt;</th><th scope=col>&lt;chr&gt;</th><th scope=col>&lt;chr&gt;</th></tr>\n",
       "</thead>\n",
       "<tbody>\n",
       "\t<tr><th scope=row>1</th><td>usual</td><td>proper</td><td>complete</td><td>1</td><td>convenient</td><td>convenient</td><td>nonprob      </td><td>priority   </td><td>priority </td></tr>\n",
       "\t<tr><th scope=row>2</th><td>usual</td><td>proper</td><td>complete</td><td>1</td><td>convenient</td><td>convenient</td><td>nonprob      </td><td>not_recom  </td><td>not_recom</td></tr>\n",
       "\t<tr><th scope=row>3</th><td>usual</td><td>proper</td><td>complete</td><td>1</td><td>convenient</td><td>convenient</td><td>slightly_prob</td><td>recommended</td><td>recommend</td></tr>\n",
       "\t<tr><th scope=row>4</th><td>usual</td><td>proper</td><td>complete</td><td>1</td><td>convenient</td><td>convenient</td><td>slightly_prob</td><td>priority   </td><td>priority </td></tr>\n",
       "\t<tr><th scope=row>5</th><td>usual</td><td>proper</td><td>complete</td><td>1</td><td>convenient</td><td>convenient</td><td>slightly_prob</td><td>not_recom  </td><td>not_recom</td></tr>\n",
       "\t<tr><th scope=row>6</th><td>usual</td><td>proper</td><td>complete</td><td>1</td><td>convenient</td><td>convenient</td><td>problematic  </td><td>recommended</td><td>priority </td></tr>\n",
       "</tbody>\n",
       "</table>\n"
      ],
      "text/latex": [
       "A data.frame: 6 × 9\n",
       "\\begin{tabular}{r|lllllllll}\n",
       "  & Parents & Has\\_nurs & Form & Children & Housing & Finance & Social & Health & Class\\\\\n",
       "  & <chr> & <chr> & <chr> & <chr> & <chr> & <chr> & <chr> & <chr> & <chr>\\\\\n",
       "\\hline\n",
       "\t1 & usual & proper & complete & 1 & convenient & convenient & nonprob       & priority    & priority \\\\\n",
       "\t2 & usual & proper & complete & 1 & convenient & convenient & nonprob       & not\\_recom   & not\\_recom\\\\\n",
       "\t3 & usual & proper & complete & 1 & convenient & convenient & slightly\\_prob & recommended & recommend\\\\\n",
       "\t4 & usual & proper & complete & 1 & convenient & convenient & slightly\\_prob & priority    & priority \\\\\n",
       "\t5 & usual & proper & complete & 1 & convenient & convenient & slightly\\_prob & not\\_recom   & not\\_recom\\\\\n",
       "\t6 & usual & proper & complete & 1 & convenient & convenient & problematic   & recommended & priority \\\\\n",
       "\\end{tabular}\n"
      ],
      "text/markdown": [
       "\n",
       "A data.frame: 6 × 9\n",
       "\n",
       "| <!--/--> | Parents &lt;chr&gt; | Has_nurs &lt;chr&gt; | Form &lt;chr&gt; | Children &lt;chr&gt; | Housing &lt;chr&gt; | Finance &lt;chr&gt; | Social &lt;chr&gt; | Health &lt;chr&gt; | Class &lt;chr&gt; |\n",
       "|---|---|---|---|---|---|---|---|---|---|\n",
       "| 1 | usual | proper | complete | 1 | convenient | convenient | nonprob       | priority    | priority  |\n",
       "| 2 | usual | proper | complete | 1 | convenient | convenient | nonprob       | not_recom   | not_recom |\n",
       "| 3 | usual | proper | complete | 1 | convenient | convenient | slightly_prob | recommended | recommend |\n",
       "| 4 | usual | proper | complete | 1 | convenient | convenient | slightly_prob | priority    | priority  |\n",
       "| 5 | usual | proper | complete | 1 | convenient | convenient | slightly_prob | not_recom   | not_recom |\n",
       "| 6 | usual | proper | complete | 1 | convenient | convenient | problematic   | recommended | priority  |\n",
       "\n"
      ],
      "text/plain": [
       "  Parents Has_nurs Form     Children Housing    Finance    Social       \n",
       "1 usual   proper   complete 1        convenient convenient nonprob      \n",
       "2 usual   proper   complete 1        convenient convenient nonprob      \n",
       "3 usual   proper   complete 1        convenient convenient slightly_prob\n",
       "4 usual   proper   complete 1        convenient convenient slightly_prob\n",
       "5 usual   proper   complete 1        convenient convenient slightly_prob\n",
       "6 usual   proper   complete 1        convenient convenient problematic  \n",
       "  Health      Class    \n",
       "1 priority    priority \n",
       "2 not_recom   not_recom\n",
       "3 recommended recommend\n",
       "4 priority    priority \n",
       "5 not_recom   not_recom\n",
       "6 recommended priority "
      ]
     },
     "metadata": {},
     "output_type": "display_data"
    }
   ],
   "source": [
    "colnames(nursery)[1]='Parents'\n",
    "colnames(nursery)[2]='has_nurs'\n",
    "colnames(nursery)[2]='Has_nurs'\n",
    "colnames(nursery)[3]='Form'\n",
    "colnames(nursery)[4]='Children'\n",
    "colnames(nursery)[5]='Housing'\n",
    "colnames(nursery)[6]='Finance'\n",
    "colnames(nursery)[7]='Social'\n",
    "colnames(nursery)[8]='Health'\n",
    "colnames(nursery)[9]='Class'\n",
    "\n",
    "head(nursery)"
   ]
  },
  {
   "cell_type": "markdown",
   "id": "39587e56",
   "metadata": {},
   "source": [
    "#### Apriori"
   ]
  },
  {
   "cell_type": "code",
   "execution_count": 74,
   "id": "cf0b4705",
   "metadata": {},
   "outputs": [
    {
     "name": "stdout",
     "output_type": "stream",
     "text": [
      "Apriori\n",
      "\n",
      "Parameter specification:\n",
      " confidence minval smax arem  aval originalSupport maxtime support minlen\n",
      "        0.8    0.1    1 none FALSE            TRUE       5    0.01      2\n",
      " maxlen target  ext\n",
      "     10  rules TRUE\n",
      "\n",
      "Algorithmic control:\n",
      " filter tree heap memopt load sort verbose\n",
      "    0.1 TRUE TRUE  FALSE TRUE    2    TRUE\n",
      "\n",
      "Absolute minimum support count: 129 \n",
      "\n",
      "set item appearances ...[8 item(s)] done [0.00s].\n",
      "set transactions ...[32 item(s), 12959 transaction(s)] done [0.01s].\n",
      "sorting and recoding items ... [31 item(s)] done [0.00s].\n",
      "creating transaction tree ... done [0.01s].\n",
      "checking subsets of size 1 2 3 4 5 done [0.03s].\n",
      "writing ... [631 rule(s)] done [0.00s].\n",
      "creating S4 object  ... done [0.00s].\n"
     ]
    }
   ],
   "source": [
    "rules<-apriori(nursery,\n",
    "               parameter = list(minlen=2,supp=0.01,conf=0.8),\n",
    "               appearance = list(rhs=c(\"Class=not_recom\",\"Class=recommend\",\n",
    "                                       \"Class=very_recom\",\"Class=priority\",\n",
    "                                       \"Class=spec_prior\",\"Has_nurs=proper\",\n",
    "                                       \"Health=recommended\",\"Parents=pretentious\"),\n",
    "                                 default=\"lhs\"))\n"
   ]
  },
  {
   "cell_type": "markdown",
   "id": "8dc6796e",
   "metadata": {},
   "source": [
    "#### Apriori rules"
   ]
  },
  {
   "cell_type": "code",
   "execution_count": 75,
   "id": "66e4985a",
   "metadata": {},
   "outputs": [
    {
     "name": "stdout",
     "output_type": "stream",
     "text": [
      "     lhs                       rhs                   support confidence   coverage     lift count\n",
      "[1]  {Health=not_recom}     => {Class=not_recom}  0.33335906  1.0000000 0.33335906 2.999769  4320\n",
      "[2]  {Has_nurs=very_crit,                                                                        \n",
      "      Health=priority}      => {Class=spec_prior} 0.06597731  0.9895833 0.06667181 3.171120   855\n",
      "[3]  {Has_nurs=very_crit,                                                                        \n",
      "      Health=not_recom}     => {Class=not_recom}  0.06667181  1.0000000 0.06667181 2.999769   864\n",
      "[4]  {Has_nurs=critical,                                                                         \n",
      "      Health=priority}      => {Class=spec_prior} 0.05856933  0.8784722 0.06667181 2.815065   759\n",
      "[5]  {Has_nurs=critical,                                                                         \n",
      "      Health=not_recom}     => {Class=not_recom}  0.06667181  1.0000000 0.06667181 2.999769   864\n",
      "[6]  {Has_nurs=improper,                                                                         \n",
      "      Health=not_recom}     => {Class=not_recom}  0.06667181  1.0000000 0.06667181 2.999769   864\n",
      "[7]  {Has_nurs=less_proper,                                                                      \n",
      "      Health=not_recom}     => {Class=not_recom}  0.06667181  1.0000000 0.06667181 2.999769   864\n",
      "[8]  {Form=complete,                                                                             \n",
      "      Health=not_recom}     => {Class=not_recom}  0.08333976  1.0000000 0.08333976 2.999769  1080\n",
      "[9]  {Children=1,                                                                                \n",
      "      Health=not_recom}     => {Class=not_recom}  0.08333976  1.0000000 0.08333976 2.999769  1080\n",
      "[10] {Children=2,                                                                                \n",
      "      Health=not_recom}     => {Class=not_recom}  0.08333976  1.0000000 0.08333976 2.999769  1080\n"
     ]
    }
   ],
   "source": [
    "inspect(rules[1:10])"
   ]
  },
  {
   "cell_type": "markdown",
   "id": "759d2ce7",
   "metadata": {},
   "source": [
    "#### Graph for 10 rules"
   ]
  },
  {
   "cell_type": "code",
   "execution_count": 76,
   "id": "9bc6d1b5",
   "metadata": {},
   "outputs": [
    {
     "data": {
      "image/png": "[encoded data removed]",
      "text/plain": [
       "plot without title"
      ]
     },
     "metadata": {
      "image/png": {
       "height": 420,
       "width": 420
      }
     },
     "output_type": "display_data"
    }
   ],
   "source": [
    "plot(rules[1:10], method=\"graph\")"
   ]
  }
 ],
 "metadata": {
  "kernelspec": {
   "display_name": "R",
   "language": "R",
   "name": "ir"
  },
  "language_info": {
   "codemirror_mode": "r",
   "file_extension": ".r",
   "mimetype": "text/x-r-source",
   "name": "R",
   "pygments_lexer": "r",
   "version": "4.0.5"
  }
 },
 "nbformat": 4,
 "nbformat_minor": 5
}
