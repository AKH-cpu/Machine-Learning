{
 "cells": [
  {
   "cell_type": "markdown",
   "id": "2ea51370",
   "metadata": {},
   "source": [
    "\n",
    "<div class=\"alert\" style=\"background-color:#fff; color:white; padding:0px 10px; border-radius:5px;\">\n",
    "    <h1 style='margin:15px 15px; color:#4B0082; font-size:40px'>Hierarchical clustering</h1>\n",
    "    <h1 style='margin:15px 15px; color:#000; font-size:15px'>Réalisé par : AKHADAM Ayoub</h1>\n",
    "   \n",
    "</div>\n",
    "    \n",
    "    \n",
    "\n",
    "    \n",
    "    03/12/2021\n",
    "    "
   ]
  },
  {
   "cell_type": "code",
   "execution_count": 1,
   "id": "cc26e30e",
   "metadata": {},
   "outputs": [],
   "source": [
    "options(warn=0)"
   ]
  },
  {
   "cell_type": "markdown",
   "id": "7359ff0e",
   "metadata": {},
   "source": [
    "## Jeu de données"
   ]
  },
  {
   "cell_type": "markdown",
   "id": "592da3c2",
   "metadata": {},
   "source": [
    "L'ensemble de données contient les résultats de deux compétitions d'athlétisme. Les Jeux olympiques d'Athènes 2004 et le Décastar 2004.\n",
    "\n",
    "Le jeu  de données contient 41 lignes (41 Athlètes) et 13 colonnes : \n",
    "- les dix premières colonnes sont des variables quantitatives correspondent aux performances des athlètes pour les 10 épreuves du décathlon. \n",
    "- Les colonnes 11 et 12 correspondent respectivement au rang et aux points obtenus.\n",
    "- La dernière colonne est une variable qualitative correspondant à la compétition (Jeux Olympiques 2004 ou Décastar 2004).\n"
   ]
  },
  {
   "cell_type": "code",
   "execution_count": 66,
   "id": "26fbf4b0",
   "metadata": {},
   "outputs": [
    {
     "data": {
      "text/html": [
       "<table class=\"dataframe\">\n",
       "<caption>A data.frame: 6 × 13</caption>\n",
       "<thead>\n",
       "\t<tr><th></th><th scope=col>100m</th><th scope=col>Longueur</th><th scope=col>Poids</th><th scope=col>Hauteur</th><th scope=col>400m</th><th scope=col>110m H</th><th scope=col>Disque</th><th scope=col>Perche</th><th scope=col>Javelot</th><th scope=col>1500m</th><th scope=col>Classement</th><th scope=col>Points</th><th scope=col>Competition</th></tr>\n",
       "\t<tr><th></th><th scope=col>&lt;dbl&gt;</th><th scope=col>&lt;dbl&gt;</th><th scope=col>&lt;dbl&gt;</th><th scope=col>&lt;dbl&gt;</th><th scope=col>&lt;dbl&gt;</th><th scope=col>&lt;dbl&gt;</th><th scope=col>&lt;dbl&gt;</th><th scope=col>&lt;dbl&gt;</th><th scope=col>&lt;dbl&gt;</th><th scope=col>&lt;dbl&gt;</th><th scope=col>&lt;int&gt;</th><th scope=col>&lt;int&gt;</th><th scope=col>&lt;chr&gt;</th></tr>\n",
       "</thead>\n",
       "<tbody>\n",
       "\t<tr><th scope=row>Sebrle</th><td>10.85</td><td>7.84</td><td>16.36</td><td>2.12</td><td>48.36</td><td>14.05</td><td>48.72</td><td>5.0</td><td>70.52</td><td>280.01</td><td>1</td><td>8893</td><td>JO</td></tr>\n",
       "\t<tr><th scope=row>Clay</th><td>10.44</td><td>7.96</td><td>15.23</td><td>2.06</td><td>49.19</td><td>14.13</td><td>50.11</td><td>4.9</td><td>69.71</td><td>282.00</td><td>2</td><td>8820</td><td>JO</td></tr>\n",
       "\t<tr><th scope=row>Karpov</th><td>10.50</td><td>7.81</td><td>15.93</td><td>2.09</td><td>46.81</td><td>13.97</td><td>51.65</td><td>4.6</td><td>55.54</td><td>278.11</td><td>3</td><td>8725</td><td>JO</td></tr>\n",
       "\t<tr><th scope=row>Macey</th><td>10.89</td><td>7.47</td><td>15.73</td><td>2.15</td><td>48.97</td><td>14.56</td><td>48.34</td><td>4.4</td><td>58.46</td><td>265.42</td><td>4</td><td>8414</td><td>JO</td></tr>\n",
       "\t<tr><th scope=row>Warners</th><td>10.62</td><td>7.74</td><td>14.48</td><td>1.97</td><td>47.97</td><td>14.01</td><td>43.73</td><td>4.9</td><td>55.39</td><td>278.05</td><td>5</td><td>8343</td><td>JO</td></tr>\n",
       "\t<tr><th scope=row>Zsivoczky</th><td>10.91</td><td>7.14</td><td>15.31</td><td>2.12</td><td>49.40</td><td>14.95</td><td>45.62</td><td>4.7</td><td>63.45</td><td>269.54</td><td>6</td><td>8287</td><td>JO</td></tr>\n",
       "</tbody>\n",
       "</table>\n"
      ],
      "text/latex": [
       "A data.frame: 6 × 13\n",
       "\\begin{tabular}{r|lllllllllllll}\n",
       "  & 100m & Longueur & Poids & Hauteur & 400m & 110m H & Disque & Perche & Javelot & 1500m & Classement & Points & Competition\\\\\n",
       "  & <dbl> & <dbl> & <dbl> & <dbl> & <dbl> & <dbl> & <dbl> & <dbl> & <dbl> & <dbl> & <int> & <int> & <chr>\\\\\n",
       "\\hline\n",
       "\tSebrle & 10.85 & 7.84 & 16.36 & 2.12 & 48.36 & 14.05 & 48.72 & 5.0 & 70.52 & 280.01 & 1 & 8893 & JO\\\\\n",
       "\tClay & 10.44 & 7.96 & 15.23 & 2.06 & 49.19 & 14.13 & 50.11 & 4.9 & 69.71 & 282.00 & 2 & 8820 & JO\\\\\n",
       "\tKarpov & 10.50 & 7.81 & 15.93 & 2.09 & 46.81 & 13.97 & 51.65 & 4.6 & 55.54 & 278.11 & 3 & 8725 & JO\\\\\n",
       "\tMacey & 10.89 & 7.47 & 15.73 & 2.15 & 48.97 & 14.56 & 48.34 & 4.4 & 58.46 & 265.42 & 4 & 8414 & JO\\\\\n",
       "\tWarners & 10.62 & 7.74 & 14.48 & 1.97 & 47.97 & 14.01 & 43.73 & 4.9 & 55.39 & 278.05 & 5 & 8343 & JO\\\\\n",
       "\tZsivoczky & 10.91 & 7.14 & 15.31 & 2.12 & 49.40 & 14.95 & 45.62 & 4.7 & 63.45 & 269.54 & 6 & 8287 & JO\\\\\n",
       "\\end{tabular}\n"
      ],
      "text/markdown": [
       "\n",
       "A data.frame: 6 × 13\n",
       "\n",
       "| <!--/--> | 100m &lt;dbl&gt; | Longueur &lt;dbl&gt; | Poids &lt;dbl&gt; | Hauteur &lt;dbl&gt; | 400m &lt;dbl&gt; | 110m H &lt;dbl&gt; | Disque &lt;dbl&gt; | Perche &lt;dbl&gt; | Javelot &lt;dbl&gt; | 1500m &lt;dbl&gt; | Classement &lt;int&gt; | Points &lt;int&gt; | Competition &lt;chr&gt; |\n",
       "|---|---|---|---|---|---|---|---|---|---|---|---|---|---|\n",
       "| Sebrle | 10.85 | 7.84 | 16.36 | 2.12 | 48.36 | 14.05 | 48.72 | 5.0 | 70.52 | 280.01 | 1 | 8893 | JO |\n",
       "| Clay | 10.44 | 7.96 | 15.23 | 2.06 | 49.19 | 14.13 | 50.11 | 4.9 | 69.71 | 282.00 | 2 | 8820 | JO |\n",
       "| Karpov | 10.50 | 7.81 | 15.93 | 2.09 | 46.81 | 13.97 | 51.65 | 4.6 | 55.54 | 278.11 | 3 | 8725 | JO |\n",
       "| Macey | 10.89 | 7.47 | 15.73 | 2.15 | 48.97 | 14.56 | 48.34 | 4.4 | 58.46 | 265.42 | 4 | 8414 | JO |\n",
       "| Warners | 10.62 | 7.74 | 14.48 | 1.97 | 47.97 | 14.01 | 43.73 | 4.9 | 55.39 | 278.05 | 5 | 8343 | JO |\n",
       "| Zsivoczky | 10.91 | 7.14 | 15.31 | 2.12 | 49.40 | 14.95 | 45.62 | 4.7 | 63.45 | 269.54 | 6 | 8287 | JO |\n",
       "\n"
      ],
      "text/plain": [
       "          100m  Longueur Poids Hauteur 400m  110m H Disque Perche Javelot\n",
       "Sebrle    10.85 7.84     16.36 2.12    48.36 14.05  48.72  5.0    70.52  \n",
       "Clay      10.44 7.96     15.23 2.06    49.19 14.13  50.11  4.9    69.71  \n",
       "Karpov    10.50 7.81     15.93 2.09    46.81 13.97  51.65  4.6    55.54  \n",
       "Macey     10.89 7.47     15.73 2.15    48.97 14.56  48.34  4.4    58.46  \n",
       "Warners   10.62 7.74     14.48 1.97    47.97 14.01  43.73  4.9    55.39  \n",
       "Zsivoczky 10.91 7.14     15.31 2.12    49.40 14.95  45.62  4.7    63.45  \n",
       "          1500m  Classement Points Competition\n",
       "Sebrle    280.01 1          8893   JO         \n",
       "Clay      282.00 2          8820   JO         \n",
       "Karpov    278.11 3          8725   JO         \n",
       "Macey     265.42 4          8414   JO         \n",
       "Warners   278.05 5          8343   JO         \n",
       "Zsivoczky 269.54 6          8287   JO         "
      ]
     },
     "metadata": {},
     "output_type": "display_data"
    }
   ],
   "source": [
    "decathlon.data <- read.table(\"decathlon.csv\", header=TRUE, sep=\";\",dec=\".\", row.names=1, check.names=FALSE)\n",
    "head(decathlon.data)"
   ]
  },
  {
   "cell_type": "code",
   "execution_count": 3,
   "id": "60a487d8",
   "metadata": {},
   "outputs": [
    {
     "data": {
      "text/plain": [
       "      100m          Longueur        Poids          Hauteur           400m      \n",
       " Min.   :10.44   Min.   :6.61   Min.   :12.68   Min.   :1.850   Min.   :46.81  \n",
       " 1st Qu.:10.85   1st Qu.:7.03   1st Qu.:13.88   1st Qu.:1.920   1st Qu.:48.93  \n",
       " Median :10.98   Median :7.30   Median :14.57   Median :1.950   Median :49.40  \n",
       " Mean   :11.00   Mean   :7.26   Mean   :14.48   Mean   :1.977   Mean   :49.62  \n",
       " 3rd Qu.:11.14   3rd Qu.:7.48   3rd Qu.:14.97   3rd Qu.:2.040   3rd Qu.:50.30  \n",
       " Max.   :11.64   Max.   :7.96   Max.   :16.36   Max.   :2.150   Max.   :53.20  \n",
       "     110m H          Disque          Perche         Javelot     \n",
       " Min.   :13.97   Min.   :37.92   Min.   :4.200   Min.   :50.31  \n",
       " 1st Qu.:14.21   1st Qu.:41.90   1st Qu.:4.500   1st Qu.:55.27  \n",
       " Median :14.48   Median :44.41   Median :4.800   Median :58.36  \n",
       " Mean   :14.61   Mean   :44.33   Mean   :4.762   Mean   :58.32  \n",
       " 3rd Qu.:14.98   3rd Qu.:46.07   3rd Qu.:4.920   3rd Qu.:60.89  \n",
       " Max.   :15.67   Max.   :51.65   Max.   :5.400   Max.   :70.52  \n",
       "     1500m         Classement        Points     Competition       \n",
       " Min.   :262.1   Min.   : 1.00   Min.   :7313   Length:41         \n",
       " 1st Qu.:271.0   1st Qu.: 6.00   1st Qu.:7802   Class :character  \n",
       " Median :278.1   Median :11.00   Median :8021   Mode  :character  \n",
       " Mean   :279.0   Mean   :12.12   Mean   :8005                     \n",
       " 3rd Qu.:285.1   3rd Qu.:18.00   3rd Qu.:8122                     \n",
       " Max.   :317.0   Max.   :28.00   Max.   :8893                     "
      ]
     },
     "metadata": {},
     "output_type": "display_data"
    }
   ],
   "source": [
    "summary(decathlon.data)"
   ]
  },
  {
   "cell_type": "code",
   "execution_count": 45,
   "id": "57839a08",
   "metadata": {},
   "outputs": [],
   "source": [
    "library(FactoMineR)\n",
    "library(factoextra)"
   ]
  },
  {
   "cell_type": "markdown",
   "id": "67bcce8a",
   "metadata": {},
   "source": [
    "## HCPC - Hierarchical Clustering on Principal Components"
   ]
  },
  {
   "cell_type": "markdown",
   "id": "38d4c85c",
   "metadata": {},
   "source": [
    "## ACP\n",
    "On utilise les cordonnées des individus de l'ACP pour réaliser la classification hiérarchique.\n",
    "\n",
    "On réalise la classification à partir des 10 premières variables.\n",
    "\n",
    "On ajoute les variables classement et points comme des variables quantitatives supplémentaires et la variable Compétition comme variable qualitative supplémentaire."
   ]
  },
  {
   "cell_type": "code",
   "execution_count": 46,
   "id": "90d8fa95",
   "metadata": {},
   "outputs": [
    {
     "name": "stdout",
     "output_type": "stream",
     "text": [
      "\n",
      "Call:\n",
      "PCA(X = decathlon.data, quanti.sup = 11:12, quali.sup = 13) \n",
      "\n",
      "\n",
      "Eigenvalues\n",
      "                       Dim.1   Dim.2   Dim.3   Dim.4   Dim.5   Dim.6   Dim.7\n",
      "Variance               3.272   1.737   1.405   1.057   0.685   0.599   0.451\n",
      "% of var.             32.719  17.371  14.049  10.569   6.848   5.993   4.512\n",
      "Cumulative % of var.  32.719  50.090  64.140  74.708  81.556  87.548  92.061\n",
      "                       Dim.8   Dim.9  Dim.10\n",
      "Variance               0.397   0.215   0.182\n",
      "% of var.              3.969   2.148   1.822\n",
      "Cumulative % of var.  96.030  98.178 100.000\n",
      "\n",
      "Individuals (the 10 first)\n",
      "               Dist    Dim.1    ctr   cos2    Dim.2    ctr   cos2    Dim.3\n",
      "Sebrle     |  4.843 |  4.038 12.158  0.695 |  1.366  2.619  0.080 | -0.290\n",
      "Clay       |  4.647 |  3.919 11.451  0.711 |  0.837  0.984  0.032 |  0.231\n",
      "Karpov     |  5.006 |  4.620 15.911  0.852 |  0.040  0.002  0.000 | -0.042\n",
      "Macey      |  3.434 |  2.233  3.719  0.423 |  1.042  1.524  0.092 | -1.864\n",
      "Warners    |  2.979 |  2.168  3.505  0.530 | -1.803  4.565  0.366 |  0.851\n",
      "Zsivoczky  |  2.566 |  0.925  0.638  0.130 |  1.169  1.918  0.207 | -1.477\n",
      "Hernu      |  1.824 |  0.889  0.589  0.238 | -0.618  0.537  0.115 | -0.898\n",
      "Nool       |  3.098 |  0.295  0.065  0.009 | -1.546  3.354  0.249 |  1.355\n",
      "Bernard    |  2.827 |  1.906  2.709  0.455 | -0.086  0.010  0.001 | -0.757\n",
      "Schwarzl   |  1.971 |  0.081  0.005  0.002 | -1.353  2.572  0.472 |  0.822\n",
      "              ctr   cos2  \n",
      "Sebrle      0.146  0.004 |\n",
      "Clay        0.093  0.002 |\n",
      "Karpov      0.003  0.000 |\n",
      "Macey       6.034  0.295 |\n",
      "Warners     1.257  0.082 |\n",
      "Zsivoczky   3.790  0.332 |\n",
      "Hernu       1.401  0.242 |\n",
      "Nool        3.189  0.191 |\n",
      "Bernard     0.995  0.072 |\n",
      "Schwarzl    1.174  0.174 |\n",
      "\n",
      "Variables\n",
      "              Dim.1    ctr   cos2    Dim.2    ctr   cos2    Dim.3    ctr   cos2\n",
      "100m       | -0.775 18.344  0.600 |  0.187  2.016  0.035 | -0.184  2.420  0.034\n",
      "Longueur   |  0.742 16.822  0.550 | -0.345  6.869  0.119 |  0.182  2.363  0.033\n",
      "Poids      |  0.623 11.844  0.388 |  0.598 20.607  0.358 | -0.023  0.039  0.001\n",
      "Hauteur    |  0.572  9.998  0.327 |  0.350  7.064  0.123 | -0.260  4.794  0.067\n",
      "400m       | -0.680 14.116  0.462 |  0.569 18.666  0.324 |  0.131  1.230  0.017\n",
      "110m H     | -0.746 17.020  0.557 |  0.229  3.013  0.052 | -0.093  0.611  0.009\n",
      "Disque     |  0.552  9.328  0.305 |  0.606 21.162  0.368 |  0.043  0.131  0.002\n",
      "Perche     |  0.050  0.077  0.003 | -0.180  1.873  0.033 |  0.692 34.061  0.479\n",
      "Javelot    |  0.277  2.347  0.077 |  0.317  5.784  0.100 | -0.390 10.807  0.152\n",
      "1500m      | -0.058  0.103  0.003 |  0.474 12.946  0.225 |  0.782 43.543  0.612\n",
      "            \n",
      "100m       |\n",
      "Longueur   |\n",
      "Poids      |\n",
      "Hauteur    |\n",
      "400m       |\n",
      "110m H     |\n",
      "Disque     |\n",
      "Perche     |\n",
      "Javelot    |\n",
      "1500m      |\n",
      "\n",
      "Supplementary continuous variables\n",
      "              Dim.1   cos2    Dim.2   cos2    Dim.3   cos2  \n",
      "Classement | -0.671  0.450 |  0.051  0.003 | -0.058  0.003 |\n",
      "Points     |  0.956  0.914 | -0.017  0.000 | -0.066  0.004 |\n",
      "\n",
      "Supplementary categories\n",
      "               Dist    Dim.1   cos2 v.test    Dim.2   cos2 v.test    Dim.3\n",
      "Decastar   |  0.946 | -0.600  0.403 -1.430 | -0.038  0.002 -0.123 |  0.289\n",
      "JO         |  0.439 |  0.279  0.403  1.430 |  0.017  0.002  0.123 | -0.134\n",
      "             cos2 v.test  \n",
      "Decastar    0.093  1.050 |\n",
      "JO          0.093 -1.050 |\n"
     ]
    }
   ],
   "source": [
    "res <- PCA(decathlon.data, quanti.sup=11:12, quali.sup=13)\n",
    "summary(res)"
   ]
  },
  {
   "cell_type": "markdown",
   "id": "621ae40b",
   "metadata": {},
   "source": [
    "####  Visualisation des individus"
   ]
  },
  {
   "cell_type": "code",
   "execution_count": 15,
   "id": "0a7cff3a",
   "metadata": {},
   "outputs": [
    {
     "data": {
      "image/png": "[encoded data removed]",
      "text/plain": [
       "plot without title"
      ]
     },
     "metadata": {
      "image/png": {
       "height": 480,
       "width": 600
      }
     },
     "output_type": "display_data"
    }
   ],
   "source": [
    "options(repr.plot.width = 10, repr.plot.height = 8)\n",
    "plot.PCA(res)"
   ]
  },
  {
   "cell_type": "markdown",
   "id": "f8082a9e",
   "metadata": {},
   "source": [
    "#### Dendrogramme de la classification des athlètes"
   ]
  },
  {
   "cell_type": "code",
   "execution_count": 16,
   "id": "589017b0",
   "metadata": {},
   "outputs": [
    {
     "data": {
      "image/png": "[encoded data removed]",
      "text/plain": [
       "Plot with title \"Cluster Dendrogram\""
      ]
     },
     "metadata": {
      "image/png": {
       "height": 480,
       "width": 600
      }
     },
     "output_type": "display_data"
    },
    {
     "data": {
      "image/png": "[encoded data removed]",
      "text/plain": [
       "Plot with title \"Factor map\""
      ]
     },
     "metadata": {
      "image/png": {
       "height": 480,
       "width": 600
      }
     },
     "output_type": "display_data"
    }
   ],
   "source": [
    "res.PCA<-PCA(decathlon.data,ncp=8,quali.sup=c(13),quanti.sup=c(11,12),graph=FALSE)\n",
    "res.HCPC<-HCPC(res.PCA,nb.clust=4,consol=FALSE,graph=FALSE)\n",
    "plot.HCPC(res.HCPC,choice='tree',title='Hierarchical tree')\n",
    "plot.HCPC(res.HCPC,choice='map',draw.tree=FALSE,title='Factor map')"
   ]
  },
  {
   "cell_type": "markdown",
   "id": "cccc33af",
   "metadata": {},
   "source": [
    "### Intérpretation"
   ]
  },
  {
   "cell_type": "markdown",
   "id": "d49af50d",
   "metadata": {},
   "source": [
    "La classification réalisée sur les individus fait apparaître 4 classes.\n",
    "\n",
    "- Si on prend par exemple La classe 1 qu'est composée d’individus tels que MARTINEAU, NOOL, BOURGUIGNON, Lorenzo, Karlivans, Korkizoglou, Uldal et Casarsa. On remarque que ce groupe est caractérisé par :\n",
    "\n",
    "    - de fortes valeurs pour les variables 100m, 400m, 110m.H et Rank.\n",
    "    - de faibles valeurs pour les variables Points, poids, Longueur et hauteur jump.\n"
   ]
  },
  {
   "cell_type": "code",
   "execution_count": 42,
   "id": "0642bdea",
   "metadata": {},
   "outputs": [
    {
     "data": {
      "text/html": [
       "<table class=\"dataframe\">\n",
       "<caption>A data.frame: 6 × 13</caption>\n",
       "<thead>\n",
       "\t<tr><th></th><th scope=col>100m</th><th scope=col>Longueur</th><th scope=col>Poids</th><th scope=col>Hauteur</th><th scope=col>400m</th><th scope=col>110m H</th><th scope=col>Disque</th><th scope=col>Perche</th><th scope=col>Javelot</th><th scope=col>1500m</th><th scope=col>Classement</th><th scope=col>Points</th><th scope=col>Competition</th></tr>\n",
       "\t<tr><th></th><th scope=col>&lt;dbl&gt;</th><th scope=col>&lt;dbl&gt;</th><th scope=col>&lt;dbl&gt;</th><th scope=col>&lt;dbl&gt;</th><th scope=col>&lt;dbl&gt;</th><th scope=col>&lt;dbl&gt;</th><th scope=col>&lt;dbl&gt;</th><th scope=col>&lt;dbl&gt;</th><th scope=col>&lt;dbl&gt;</th><th scope=col>&lt;dbl&gt;</th><th scope=col>&lt;int&gt;</th><th scope=col>&lt;int&gt;</th><th scope=col>&lt;chr&gt;</th></tr>\n",
       "</thead>\n",
       "<tbody>\n",
       "\t<tr><th scope=row>Nool</th><td>10.80</td><td>7.53</td><td>14.26</td><td>1.88</td><td>48.81</td><td>14.80</td><td>42.05</td><td>5.40</td><td>61.33</td><td>276.33</td><td> 8</td><td>8235</td><td>JO      </td></tr>\n",
       "\t<tr><th scope=row>Clay</th><td>10.44</td><td>7.96</td><td>15.23</td><td>2.06</td><td>49.19</td><td>14.13</td><td>50.11</td><td>4.90</td><td>69.71</td><td>282.00</td><td> 2</td><td>8820</td><td>JO      </td></tr>\n",
       "\t<tr><th scope=row>BOURGUIGNON</th><td>11.36</td><td>6.80</td><td>13.46</td><td>1.86</td><td>51.16</td><td>15.67</td><td>40.49</td><td>5.02</td><td>54.68</td><td>291.70</td><td>13</td><td>7313</td><td>Decastar</td></tr>\n",
       "\t<tr><th scope=row>Lorenzo</th><td>11.10</td><td>7.03</td><td>13.22</td><td>1.85</td><td>49.34</td><td>15.38</td><td>40.22</td><td>4.50</td><td>58.36</td><td>263.08</td><td>24</td><td>7592</td><td>JO      </td></tr>\n",
       "\t<tr><th scope=row>Uldal</th><td>11.23</td><td>6.99</td><td>13.53</td><td>1.85</td><td>50.95</td><td>15.09</td><td>43.01</td><td>4.50</td><td>60.00</td><td>281.70</td><td>27</td><td>7495</td><td>JO      </td></tr>\n",
       "\t<tr><th scope=row>Casarsa</th><td>11.36</td><td>6.68</td><td>14.92</td><td>1.94</td><td>53.20</td><td>15.39</td><td>48.66</td><td>4.40</td><td>58.62</td><td>296.12</td><td>28</td><td>7404</td><td>JO      </td></tr>\n",
       "</tbody>\n",
       "</table>\n"
      ],
      "text/latex": [
       "A data.frame: 6 × 13\n",
       "\\begin{tabular}{r|lllllllllllll}\n",
       "  & 100m & Longueur & Poids & Hauteur & 400m & 110m H & Disque & Perche & Javelot & 1500m & Classement & Points & Competition\\\\\n",
       "  & <dbl> & <dbl> & <dbl> & <dbl> & <dbl> & <dbl> & <dbl> & <dbl> & <dbl> & <dbl> & <int> & <int> & <chr>\\\\\n",
       "\\hline\n",
       "\tNool & 10.80 & 7.53 & 14.26 & 1.88 & 48.81 & 14.80 & 42.05 & 5.40 & 61.33 & 276.33 &  8 & 8235 & JO      \\\\\n",
       "\tClay & 10.44 & 7.96 & 15.23 & 2.06 & 49.19 & 14.13 & 50.11 & 4.90 & 69.71 & 282.00 &  2 & 8820 & JO      \\\\\n",
       "\tBOURGUIGNON & 11.36 & 6.80 & 13.46 & 1.86 & 51.16 & 15.67 & 40.49 & 5.02 & 54.68 & 291.70 & 13 & 7313 & Decastar\\\\\n",
       "\tLorenzo & 11.10 & 7.03 & 13.22 & 1.85 & 49.34 & 15.38 & 40.22 & 4.50 & 58.36 & 263.08 & 24 & 7592 & JO      \\\\\n",
       "\tUldal & 11.23 & 6.99 & 13.53 & 1.85 & 50.95 & 15.09 & 43.01 & 4.50 & 60.00 & 281.70 & 27 & 7495 & JO      \\\\\n",
       "\tCasarsa & 11.36 & 6.68 & 14.92 & 1.94 & 53.20 & 15.39 & 48.66 & 4.40 & 58.62 & 296.12 & 28 & 7404 & JO      \\\\\n",
       "\\end{tabular}\n"
      ],
      "text/markdown": [
       "\n",
       "A data.frame: 6 × 13\n",
       "\n",
       "| <!--/--> | 100m &lt;dbl&gt; | Longueur &lt;dbl&gt; | Poids &lt;dbl&gt; | Hauteur &lt;dbl&gt; | 400m &lt;dbl&gt; | 110m H &lt;dbl&gt; | Disque &lt;dbl&gt; | Perche &lt;dbl&gt; | Javelot &lt;dbl&gt; | 1500m &lt;dbl&gt; | Classement &lt;int&gt; | Points &lt;int&gt; | Competition &lt;chr&gt; |\n",
       "|---|---|---|---|---|---|---|---|---|---|---|---|---|---|\n",
       "| Nool | 10.80 | 7.53 | 14.26 | 1.88 | 48.81 | 14.80 | 42.05 | 5.40 | 61.33 | 276.33 |  8 | 8235 | JO       |\n",
       "| Clay | 10.44 | 7.96 | 15.23 | 2.06 | 49.19 | 14.13 | 50.11 | 4.90 | 69.71 | 282.00 |  2 | 8820 | JO       |\n",
       "| BOURGUIGNON | 11.36 | 6.80 | 13.46 | 1.86 | 51.16 | 15.67 | 40.49 | 5.02 | 54.68 | 291.70 | 13 | 7313 | Decastar |\n",
       "| Lorenzo | 11.10 | 7.03 | 13.22 | 1.85 | 49.34 | 15.38 | 40.22 | 4.50 | 58.36 | 263.08 | 24 | 7592 | JO       |\n",
       "| Uldal | 11.23 | 6.99 | 13.53 | 1.85 | 50.95 | 15.09 | 43.01 | 4.50 | 60.00 | 281.70 | 27 | 7495 | JO       |\n",
       "| Casarsa | 11.36 | 6.68 | 14.92 | 1.94 | 53.20 | 15.39 | 48.66 | 4.40 | 58.62 | 296.12 | 28 | 7404 | JO       |\n",
       "\n"
      ],
      "text/plain": [
       "            100m  Longueur Poids Hauteur 400m  110m H Disque Perche Javelot\n",
       "Nool        10.80 7.53     14.26 1.88    48.81 14.80  42.05  5.40   61.33  \n",
       "Clay        10.44 7.96     15.23 2.06    49.19 14.13  50.11  4.90   69.71  \n",
       "BOURGUIGNON 11.36 6.80     13.46 1.86    51.16 15.67  40.49  5.02   54.68  \n",
       "Lorenzo     11.10 7.03     13.22 1.85    49.34 15.38  40.22  4.50   58.36  \n",
       "Uldal       11.23 6.99     13.53 1.85    50.95 15.09  43.01  4.50   60.00  \n",
       "Casarsa     11.36 6.68     14.92 1.94    53.20 15.39  48.66  4.40   58.62  \n",
       "            1500m  Classement Points Competition\n",
       "Nool        276.33  8         8235   JO         \n",
       "Clay        282.00  2         8820   JO         \n",
       "BOURGUIGNON 291.70 13         7313   Decastar   \n",
       "Lorenzo     263.08 24         7592   JO         \n",
       "Uldal       281.70 27         7495   JO         \n",
       "Casarsa     296.12 28         7404   JO         "
      ]
     },
     "metadata": {},
     "output_type": "display_data"
    }
   ],
   "source": [
    "decathlon.data[c('Nool','Clay', 'BOURGUIGNON','Lorenzo','Uldal','Casarsa'),]"
   ]
  },
  {
   "cell_type": "markdown",
   "id": "64b834ae",
   "metadata": {},
   "source": [
    "- La classe 4 est composée d’individus tels que Sebrle, Clay et Karpov. Ce groupe est caractérisé par :\n",
    "    - de fortes valeurs pour les variables Points, Longueur, Disque, poids, Javelot et hauteur.\n",
    "    - de faibles valeurs pour les variables 100m, 400m, Rank et 110m.h"
   ]
  },
  {
   "cell_type": "code",
   "execution_count": 43,
   "id": "c7f68b50",
   "metadata": {},
   "outputs": [
    {
     "data": {
      "text/html": [
       "<table class=\"dataframe\">\n",
       "<caption>A data.frame: 3 × 13</caption>\n",
       "<thead>\n",
       "\t<tr><th></th><th scope=col>100m</th><th scope=col>Longueur</th><th scope=col>Poids</th><th scope=col>Hauteur</th><th scope=col>400m</th><th scope=col>110m H</th><th scope=col>Disque</th><th scope=col>Perche</th><th scope=col>Javelot</th><th scope=col>1500m</th><th scope=col>Classement</th><th scope=col>Points</th><th scope=col>Competition</th></tr>\n",
       "\t<tr><th></th><th scope=col>&lt;dbl&gt;</th><th scope=col>&lt;dbl&gt;</th><th scope=col>&lt;dbl&gt;</th><th scope=col>&lt;dbl&gt;</th><th scope=col>&lt;dbl&gt;</th><th scope=col>&lt;dbl&gt;</th><th scope=col>&lt;dbl&gt;</th><th scope=col>&lt;dbl&gt;</th><th scope=col>&lt;dbl&gt;</th><th scope=col>&lt;dbl&gt;</th><th scope=col>&lt;int&gt;</th><th scope=col>&lt;int&gt;</th><th scope=col>&lt;chr&gt;</th></tr>\n",
       "</thead>\n",
       "<tbody>\n",
       "\t<tr><th scope=row>Sebrle</th><td>10.85</td><td>7.84</td><td>16.36</td><td>2.12</td><td>48.36</td><td>14.05</td><td>48.72</td><td>5.0</td><td>70.52</td><td>280.01</td><td>1</td><td>8893</td><td>JO</td></tr>\n",
       "\t<tr><th scope=row>Clay</th><td>10.44</td><td>7.96</td><td>15.23</td><td>2.06</td><td>49.19</td><td>14.13</td><td>50.11</td><td>4.9</td><td>69.71</td><td>282.00</td><td>2</td><td>8820</td><td>JO</td></tr>\n",
       "\t<tr><th scope=row>Karpov</th><td>10.50</td><td>7.81</td><td>15.93</td><td>2.09</td><td>46.81</td><td>13.97</td><td>51.65</td><td>4.6</td><td>55.54</td><td>278.11</td><td>3</td><td>8725</td><td>JO</td></tr>\n",
       "</tbody>\n",
       "</table>\n"
      ],
      "text/latex": [
       "A data.frame: 3 × 13\n",
       "\\begin{tabular}{r|lllllllllllll}\n",
       "  & 100m & Longueur & Poids & Hauteur & 400m & 110m H & Disque & Perche & Javelot & 1500m & Classement & Points & Competition\\\\\n",
       "  & <dbl> & <dbl> & <dbl> & <dbl> & <dbl> & <dbl> & <dbl> & <dbl> & <dbl> & <dbl> & <int> & <int> & <chr>\\\\\n",
       "\\hline\n",
       "\tSebrle & 10.85 & 7.84 & 16.36 & 2.12 & 48.36 & 14.05 & 48.72 & 5.0 & 70.52 & 280.01 & 1 & 8893 & JO\\\\\n",
       "\tClay & 10.44 & 7.96 & 15.23 & 2.06 & 49.19 & 14.13 & 50.11 & 4.9 & 69.71 & 282.00 & 2 & 8820 & JO\\\\\n",
       "\tKarpov & 10.50 & 7.81 & 15.93 & 2.09 & 46.81 & 13.97 & 51.65 & 4.6 & 55.54 & 278.11 & 3 & 8725 & JO\\\\\n",
       "\\end{tabular}\n"
      ],
      "text/markdown": [
       "\n",
       "A data.frame: 3 × 13\n",
       "\n",
       "| <!--/--> | 100m &lt;dbl&gt; | Longueur &lt;dbl&gt; | Poids &lt;dbl&gt; | Hauteur &lt;dbl&gt; | 400m &lt;dbl&gt; | 110m H &lt;dbl&gt; | Disque &lt;dbl&gt; | Perche &lt;dbl&gt; | Javelot &lt;dbl&gt; | 1500m &lt;dbl&gt; | Classement &lt;int&gt; | Points &lt;int&gt; | Competition &lt;chr&gt; |\n",
       "|---|---|---|---|---|---|---|---|---|---|---|---|---|---|\n",
       "| Sebrle | 10.85 | 7.84 | 16.36 | 2.12 | 48.36 | 14.05 | 48.72 | 5.0 | 70.52 | 280.01 | 1 | 8893 | JO |\n",
       "| Clay | 10.44 | 7.96 | 15.23 | 2.06 | 49.19 | 14.13 | 50.11 | 4.9 | 69.71 | 282.00 | 2 | 8820 | JO |\n",
       "| Karpov | 10.50 | 7.81 | 15.93 | 2.09 | 46.81 | 13.97 | 51.65 | 4.6 | 55.54 | 278.11 | 3 | 8725 | JO |\n",
       "\n"
      ],
      "text/plain": [
       "       100m  Longueur Poids Hauteur 400m  110m H Disque Perche Javelot 1500m \n",
       "Sebrle 10.85 7.84     16.36 2.12    48.36 14.05  48.72  5.0    70.52   280.01\n",
       "Clay   10.44 7.96     15.23 2.06    49.19 14.13  50.11  4.9    69.71   282.00\n",
       "Karpov 10.50 7.81     15.93 2.09    46.81 13.97  51.65  4.6    55.54   278.11\n",
       "       Classement Points Competition\n",
       "Sebrle 1          8893   JO         \n",
       "Clay   2          8820   JO         \n",
       "Karpov 3          8725   JO         "
      ]
     },
     "metadata": {},
     "output_type": "display_data"
    }
   ],
   "source": [
    "decathlon.data[c('Sebrle','Clay', 'Karpov'),]"
   ]
  },
  {
   "cell_type": "markdown",
   "id": "89401ed7",
   "metadata": {},
   "source": [
    "## CAH - Classification Ascendante Hiérarchique"
   ]
  },
  {
   "cell_type": "markdown",
   "id": "d85540d6",
   "metadata": {},
   "source": [
    "### Matrice des distances"
   ]
  },
  {
   "cell_type": "code",
   "execution_count": 58,
   "id": "22cf8815",
   "metadata": {},
   "outputs": [],
   "source": [
    "data <- decathlon.data[,1:10]"
   ]
  },
  {
   "cell_type": "code",
   "execution_count": 59,
   "id": "682e9849",
   "metadata": {},
   "outputs": [
    {
     "data": {
      "text/plain": [
       "               Sebrle      Clay    Karpov     Macey   Warners Zsivoczky\n",
       "Clay         2.952389                                                  \n",
       "Karpov      15.474928 14.986314                                        \n",
       "Macey       18.973260 20.143877 13.633914                              \n",
       "Warners     16.169171 16.233407  8.144071 13.909964                    \n",
       "Zsivoczky   13.145094 14.705751 13.455657  7.070113 12.044908          \n",
       "Hernu       20.679439 22.018724 15.758902  4.039629 13.978187  7.843526\n",
       "Nool        12.164645 13.017988 11.712506 13.044455  6.540420  8.094955\n",
       "Bernard     16.296303 16.442503  7.603164 11.947380  2.429197 10.709697\n",
       "Schwarzl    17.044380 17.660767 10.926660 10.487540  5.141070  8.933241\n",
       "Pogorelov   19.345188 18.158208 12.724044 23.164648 10.246248 20.759008\n",
       "Schoenbeck  10.929620 11.071233  9.789331 14.286728  6.100598  9.786884\n",
       "Barras      14.899859 16.689991 16.068534  7.312742 14.441229  2.907043\n",
       "Smith       11.737632 12.491429  8.908333  8.035907  9.870973  5.180434\n",
       "Averyanov   20.526807 21.392681 14.177884 11.005735  8.270556 10.791038\n",
       "Ojaniemi    14.802118 15.660291 12.441009 13.088006  5.881462  9.155348\n",
       "Smirnov     20.465344 22.112035 18.511961  6.967474 15.868056  7.585473\n",
       "Qi          13.140970 14.019882 10.726057  8.548011  8.080235  4.491971\n",
       "Drews       21.897717 22.291312 13.268715 14.179316  6.726032 14.182930\n",
       "Parkhomenko  9.102340 10.273257 14.880914 16.054875 11.196102  9.654331\n",
       "Terek       22.753655 21.378644 14.885194 26.324924 13.526311 24.466179\n",
       "Gomez       16.343913 17.839274 14.763695  8.925296 10.345888  5.568806\n",
       "Turi        17.986056 16.960478 18.055254 26.272016 13.757191 21.863717\n",
       "Lorenzo     22.811640 24.325515 19.526067  8.880715 15.858506 10.075584\n",
       "Karlivans   18.876446 18.615746  9.954888 15.494528  4.058337 14.318872\n",
       "Korkizoglou 41.137203 39.046719 39.643856 51.971289 39.240140 48.623056\n",
       "Uldal       12.771805 12.387994 11.526326 17.473013  6.866680 13.130442\n",
       "Casarsa     20.747014 18.573583 19.716343 31.028132 19.815037 27.466145\n",
       "SEBRLE      14.833931 13.357653 17.800851 27.130007 15.854331 22.257844\n",
       "CLAY        24.063724 21.758948 24.061359 36.238711 24.971542 32.564722\n",
       "KARPOV      28.618110 26.657157 22.957352 35.752955 23.329953 33.555457\n",
       "BERNARD     11.309160 11.831488 13.488984 17.123963  8.329490 11.676010\n",
       "YURKOV       8.791564  9.487002 10.535654 12.373181  9.116617  6.988698\n",
       "WARNERS     20.439264 20.492328 11.499352 16.140945  4.567866 15.247387\n",
       "ZSIVOCZKY   19.803030 20.636928 12.166174  5.364420 10.339260  8.508272\n",
       "McMULLEN    15.956062 14.953505 10.809556 20.296362  7.485266 17.228041\n",
       "MARTINEAU   25.724809 26.629450 17.300532  7.301151 16.917816 13.592023\n",
       "HERNU       15.175273 14.100762 10.897775 20.178357  8.126980 16.907992\n",
       "BARRAS      16.854842 16.500276 10.888402 18.075943  4.694933 15.309958\n",
       "NOOL        22.001350 23.356160 18.536801 11.009469 13.276140 10.552038\n",
       "BOURGUIGNON 21.807767 20.595317 18.435718 27.908219 14.586089 24.532061\n",
       "                Hernu      Nool   Bernard  Schwarzl Pogorelov Schoenbeck\n",
       "Clay                                                                    \n",
       "Karpov                                                                  \n",
       "Macey                                                                   \n",
       "Warners                                                                 \n",
       "Zsivoczky                                                               \n",
       "Hernu                                                                   \n",
       "Nool        12.821162                                                   \n",
       "Bernard     12.237733  6.773264                                         \n",
       "Schwarzl     9.685066  5.857687  3.959975                               \n",
       "Pogorelov   23.770829 14.195925 11.609677 14.602020                     \n",
       "Schoenbeck  14.894321  3.857201  6.316083  7.307961 11.550182           \n",
       "Barras       7.367849 10.270959 13.106437 10.808622 23.397297  12.340778\n",
       "Smith       10.210299  8.078552  8.416514  8.616339 17.597327   7.803179\n",
       "Averyanov    8.929043  8.994899  7.282603  4.090685 17.352876  11.076137\n",
       "Ojaniemi    12.306783  2.976995  6.037185  4.454369 14.058243   5.562904\n",
       "Smirnov      4.114013 13.070880 14.394714 11.265523 25.612384  15.711890\n",
       "Qi           8.964870  5.059634  6.822844  5.387968 16.836110   6.421394\n",
       "Drews       12.648937 10.325483  6.617409  5.593791 14.606365  11.556903\n",
       "Parkhomenko 16.272185  5.580627 11.320499 10.745748 15.988418   5.801827\n",
       "Terek       27.024593 18.058876 14.905660 18.092780  4.368970  15.544536\n",
       "Gomez        7.196784  6.855049  9.401064  6.211666 19.824525   9.923422\n",
       "Turi        26.356009 14.344232 15.393456 17.050739  8.142143  12.330766\n",
       "Lorenzo      5.107025 13.805148 14.476187 11.024863 25.561608  16.627510\n",
       "Karlivans   15.370491  9.109698  4.297080  6.378236  9.297876   8.231707\n",
       "Korkizoglou 52.938722 41.777112 40.833949 43.754211 29.425693  39.028288\n",
       "Uldal       17.778712  6.165339  7.799929  9.119819  9.183425   3.744997\n",
       "Casarsa     32.365565 21.558660 20.931691 23.839218 11.111476  18.248288\n",
       "SEBRLE      27.929334 15.625751 17.373301 19.465415 10.653647  13.119478\n",
       "CLAY        37.716943 26.668626 26.357244 29.400451 16.660117  23.579474\n",
       "KARPOV      36.862130 27.205558 24.778553 28.123576 13.884470  24.361572\n",
       "BERNARD     17.000568  4.227990  9.367027  9.392540 12.743626   4.516359\n",
       "YURKOV      13.574461  5.185962  8.534067  8.765849 15.175773   4.156633\n",
       "WARNERS     15.439239  9.803810  5.450101  6.663543 10.540038   9.881675\n",
       "ZSIVOCZKY    4.637564 10.963366  8.494322  6.665321 19.946792  12.411769\n",
       "McMULLEN    20.856186 10.478201  8.965088 11.736686  4.232966   7.838782\n",
       "MARTINEAU    6.775898 17.822362 14.899379 13.260147 25.768230  19.084570\n",
       "HERNU       20.919300 10.425589  9.303010 11.972285  4.706017   7.421193\n",
       "BARRAS      18.029872  8.304113  6.398375  8.536041  6.701418   6.864408\n",
       "NOOL         7.533870 11.433171 12.325474  8.579225 22.641800  14.497303\n",
       "BOURGUIGNON 28.020005 17.052967 16.275061 18.450610  6.355832  14.983721\n",
       "               Barras     Smith Averyanov  Ojaniemi   Smirnov        Qi\n",
       "Clay                                                                   \n",
       "Karpov                                                                 \n",
       "Macey                                                                  \n",
       "Warners                                                                \n",
       "Zsivoczky                                                              \n",
       "Hernu                                                                  \n",
       "Nool                                                                   \n",
       "Bernard                                                                \n",
       "Schwarzl                                                               \n",
       "Pogorelov                                                              \n",
       "Schoenbeck                                                             \n",
       "Barras                                                                 \n",
       "Smith        7.693829                                                  \n",
       "Averyanov   11.898613 11.719932                                        \n",
       "Ojaniemi    11.105310  9.531983  6.774017                              \n",
       "Smirnov      5.892088 11.619376 10.380641 12.742198                    \n",
       "Qi           6.865442  4.437240  8.419804  6.099738  9.720566          \n",
       "Drews       15.722818 13.696781  4.768899  8.201018 14.614578 10.763972\n",
       "Parkhomenko 11.473369 10.040677 13.576340  7.462071 15.686641  8.431162\n",
       "Terek       27.154105 21.056861 20.584577 17.836600 29.141179 20.531101\n",
       "Gomez        6.123226  8.738770  6.559886  6.295109  6.648113  5.324829\n",
       "Turi        24.172555 19.908430 19.720984 14.635932 27.003561 18.354604\n",
       "Lorenzo      8.919120 13.671426  9.005071 12.806522  3.524230 11.040498\n",
       "Karlivans   16.611273 12.175024  8.720550  7.949497 17.399543 10.128993\n",
       "Korkizoglou 51.267057 45.214700 46.446986 42.196725 54.424162 45.094811\n",
       "Uldal       15.565590 11.220312 12.550434  7.036540 18.521304  9.451756\n",
       "Casarsa     30.135756 23.936031 27.176884 22.449987 33.742805 24.173082\n",
       "SEBRLE      24.687817 19.806375 22.772679 16.840796 28.544131 19.322003\n",
       "CLAY        35.200114 28.874792 32.843334 27.840016 39.089417 29.436917\n",
       "KARPOV      36.296372 29.691113 30.881153 27.487079 38.942492 29.804615\n",
       "BERNARD     13.775025 11.210285 12.376514  5.755415 16.990621  8.922444\n",
       "YURKOV       9.592977  5.323495 12.329282  7.439671 14.007801  5.126588\n",
       "WARNERS     17.316203 13.747542  7.787407  7.994448 17.454335 11.383752\n",
       "ZSIVOCZKY    9.415339  8.685344  6.786118 10.311843  7.971832  7.249641\n",
       "McMULLEN    19.831503 14.269839 14.932692 10.752674 22.358220 13.263227\n",
       "MARTINEAU   13.536927 14.243539 12.078311 16.986068 10.155033 13.807625\n",
       "HERNU       19.559399 13.932677 15.317399 10.897596 22.351443 13.101908\n",
       "BARRAS      17.726362 13.160695 11.279224  7.709021 19.492373 11.256065\n",
       "NOOL        10.223512 13.651967  6.065328  9.900288  6.732035 10.043869\n",
       "BOURGUIGNON 27.000498 22.123727 20.826385 16.872718 29.222320 20.646331\n",
       "                Drews Parkhomenko     Terek     Gomez      Turi   Lorenzo\n",
       "Clay                                                                     \n",
       "Karpov                                                                   \n",
       "Macey                                                                    \n",
       "Warners                                                                  \n",
       "Zsivoczky                                                                \n",
       "Hernu                                                                    \n",
       "Nool                                                                     \n",
       "Bernard                                                                  \n",
       "Schwarzl                                                                 \n",
       "Pogorelov                                                                \n",
       "Schoenbeck                                                               \n",
       "Barras                                                                   \n",
       "Smith                                                                    \n",
       "Averyanov                                                                \n",
       "Ojaniemi                                                                 \n",
       "Smirnov                                                                  \n",
       "Qi                                                                       \n",
       "Drews                                                                    \n",
       "Parkhomenko 15.364622                                                    \n",
       "Terek       17.290500   20.052177                                        \n",
       "Gomez       10.399880   10.144501 23.518965                              \n",
       "Turi        17.927426   14.039943 10.839843 20.645360                    \n",
       "Lorenzo     13.173933   16.995143 28.944697  7.296533 27.079843          \n",
       "Karlivans    6.152674   13.249181 12.347405 12.353408 13.576023 16.855346\n",
       "Korkizoglou 43.358488   41.318866 26.811913 48.262047 28.446794 54.551895\n",
       "Uldal       12.004799    7.364428 13.232392 12.484899  8.998378 18.972846\n",
       "Casarsa     25.136336   20.827626 10.993898 28.007187 11.019374 34.364818\n",
       "SEBRLE      21.458348   14.246631 12.812748 22.363211  6.217242 29.305430\n",
       "CLAY        30.558095   25.910411 15.597808 33.289673 16.043622 39.910286\n",
       "KARPOV      27.533452   28.193521 10.532141 33.210265 16.761951 39.041121\n",
       "BERNARD     12.817391    4.716789 16.636445 10.668036 10.948995 17.653776\n",
       "YURKOV      13.954605    5.305337 18.999521  9.234224 15.767949 15.650390\n",
       "WARNERS      4.231678   14.386191 13.226878 12.288808 14.514713 16.530802\n",
       "ZSIVOCZKY    9.211753   15.299824 22.979613  7.413494 23.322440  8.062562\n",
       "McMULLEN    12.786168   12.363677  8.108755 16.445607  7.577196 22.544383\n",
       "MARTINEAU   14.493950   21.627607 28.405295 13.251970 29.875036  9.745620\n",
       "HERNU       13.578052   11.745199  8.658863 16.518801  7.581629 22.673213\n",
       "BARRAS       9.071180   11.420687 10.352463 13.492954  9.485826 19.286363\n",
       "NOOL        10.014040   15.092409 26.025764  5.857158 23.739389  4.357511\n",
       "BOURGUIGNON 18.068605   17.922012  7.114260 23.034088  5.239170 28.923430\n",
       "            Karlivans Korkizoglou     Uldal   Casarsa    SEBRLE      CLAY\n",
       "Clay                                                                     \n",
       "Karpov                                                                   \n",
       "Macey                                                                    \n",
       "Warners                                                                  \n",
       "Zsivoczky                                                                \n",
       "Hernu                                                                    \n",
       "Nool                                                                     \n",
       "Bernard                                                                  \n",
       "Schwarzl                                                                 \n",
       "Pogorelov                                                                \n",
       "Schoenbeck                                                               \n",
       "Barras                                                                   \n",
       "Smith                                                                    \n",
       "Averyanov                                                                \n",
       "Ojaniemi                                                                 \n",
       "Smirnov                                                                  \n",
       "Qi                                                                       \n",
       "Drews                                                                    \n",
       "Parkhomenko                                                              \n",
       "Terek                                                                    \n",
       "Gomez                                                                    \n",
       "Turi                                                                     \n",
       "Lorenzo                                                                  \n",
       "Karlivans                                                                \n",
       "Korkizoglou 38.465848                                                    \n",
       "Uldal        7.729592   36.133736                                        \n",
       "Casarsa     19.378111   21.875971 15.779068                              \n",
       "SEBRLE      16.698704   27.397073 10.704032  8.822318                    \n",
       "CLAY        25.132342   17.798621 21.358441  7.320123 12.448112          \n",
       "KARPOV      22.577998   17.513466 21.931174 10.564488 16.361886 10.149887\n",
       "BERNARD     10.461114   38.585642  4.494474 18.832252 12.019443 23.731504\n",
       "YURKOV      11.319867   41.921588  7.328301 20.639162 15.548624 25.783925\n",
       "WARNERS      3.470980   39.330345  9.561470 21.263243 18.005033 26.664896\n",
       "ZSIVOCZKY   11.388802   49.148714 14.920402 28.900138 25.109518 34.237488\n",
       "McMULLEN     7.459578   32.164614  5.355623 12.588467  9.604145 18.001414\n",
       "MARTINEAU   17.184627   54.942631 21.591832 34.757900 31.782597 40.321716\n",
       "HERNU        8.003655   32.196438  4.961985 11.945313  9.125152 17.748175\n",
       "BARRAS       4.572472   35.356555  4.999350 16.380455 12.599913 21.860940\n",
       "NOOL        14.063513   51.328461 16.260886 31.774156 26.509702 37.332335\n",
       "BOURGUIGNON 13.504892   26.012336 11.634505 10.420446  9.405445 15.421164\n",
       "               KARPOV   BERNARD    YURKOV   WARNERS ZSIVOCZKY  McMULLEN\n",
       "Clay                                                                   \n",
       "Karpov                                                                 \n",
       "Macey                                                                  \n",
       "Warners                                                                \n",
       "Zsivoczky                                                              \n",
       "Hernu                                                                  \n",
       "Nool                                                                   \n",
       "Bernard                                                                \n",
       "Schwarzl                                                               \n",
       "Pogorelov                                                              \n",
       "Schoenbeck                                                             \n",
       "Barras                                                                 \n",
       "Smith                                                                  \n",
       "Averyanov                                                              \n",
       "Ojaniemi                                                               \n",
       "Smirnov                                                                \n",
       "Qi                                                                     \n",
       "Drews                                                                  \n",
       "Parkhomenko                                                            \n",
       "Terek                                                                  \n",
       "Gomez                                                                  \n",
       "Turi                                                                   \n",
       "Lorenzo                                                                \n",
       "Karlivans                                                              \n",
       "Korkizoglou                                                            \n",
       "Uldal                                                                  \n",
       "Casarsa                                                                \n",
       "SEBRLE                                                                 \n",
       "CLAY                                                                   \n",
       "KARPOV                                                                 \n",
       "BERNARD     25.022416                                                  \n",
       "YURKOV      27.424996  6.849197                                        \n",
       "WARNERS     23.507299 11.225204 13.078238                              \n",
       "ZSIVOCZKY   32.790212 15.046810 11.986784 11.700098                    \n",
       "McMULLEN    17.003391  8.997822 11.518103  9.131758 17.230458          \n",
       "MARTINEAU   38.236422 21.922096 18.181194 17.382713  7.253027 23.615624\n",
       "HERNU       17.314211  8.850717 10.853023 10.007867 17.444194  1.974031\n",
       "BARRAS      20.153667  7.781555 10.776210  5.533896 14.498141  4.083969\n",
       "NOOL        36.168293 14.919132 14.472090 13.371967  8.283719 19.706032\n",
       "BOURGUIGNON 13.240963 14.373796 18.655367 14.264417 24.461928  8.128530\n",
       "            MARTINEAU     HERNU    BARRAS      NOOL\n",
       "Clay                                               \n",
       "Karpov                                             \n",
       "Macey                                              \n",
       "Warners                                            \n",
       "Zsivoczky                                          \n",
       "Hernu                                              \n",
       "Nool                                               \n",
       "Bernard                                            \n",
       "Schwarzl                                           \n",
       "Pogorelov                                          \n",
       "Schoenbeck                                         \n",
       "Barras                                             \n",
       "Smith                                              \n",
       "Averyanov                                          \n",
       "Ojaniemi                                           \n",
       "Smirnov                                            \n",
       "Qi                                                 \n",
       "Drews                                              \n",
       "Parkhomenko                                        \n",
       "Terek                                              \n",
       "Gomez                                              \n",
       "Turi                                               \n",
       "Lorenzo                                            \n",
       "Karlivans                                          \n",
       "Korkizoglou                                        \n",
       "Uldal                                              \n",
       "Casarsa                                            \n",
       "SEBRLE                                             \n",
       "CLAY                                               \n",
       "KARPOV                                             \n",
       "BERNARD                                            \n",
       "YURKOV                                             \n",
       "WARNERS                                            \n",
       "ZSIVOCZKY                                          \n",
       "McMULLEN                                           \n",
       "MARTINEAU                                          \n",
       "HERNU       23.686479                              \n",
       "BARRAS      20.897730  4.959556                    \n",
       "NOOL        12.043604 19.977320 16.174594          \n",
       "BOURGUIGNON 30.580244  8.485635 10.097713 25.479857"
      ]
     },
     "metadata": {},
     "output_type": "display_data"
    }
   ],
   "source": [
    "d <- dist(data, method = \"euclidean\")\n",
    "d"
   ]
  },
  {
   "cell_type": "code",
   "execution_count": 60,
   "id": "5db39a6f",
   "metadata": {},
   "outputs": [],
   "source": [
    "library(purrr)\n",
    "library(cluster)"
   ]
  },
  {
   "cell_type": "code",
   "execution_count": 61,
   "id": "5782c439",
   "metadata": {},
   "outputs": [
    {
     "name": "stdout",
     "output_type": "stream",
     "text": [
      "  average    single  complete      ward \n",
      "0.8618245 0.7344465 0.8994446 0.9378897 \n"
     ]
    }
   ],
   "source": [
    "m <- c( \"average\", \"single\", \"complete\", \"ward\")\n",
    "names(m) <- c( \"average\", \"single\", \"complete\", \"ward\")\n",
    "\n",
    "ac <- function(x) {\n",
    "  agnes(data, method = x)$ac\n",
    "}\n",
    "\n",
    "print(map_dbl(m, ac))"
   ]
  },
  {
   "cell_type": "markdown",
   "id": "1bd94321",
   "metadata": {},
   "source": [
    "La méthode de Ward identifie la structure de clustering la plus forte par rapport aux quatre méthodes."
   ]
  },
  {
   "cell_type": "code",
   "execution_count": 62,
   "id": "e29ef69c",
   "metadata": {},
   "outputs": [
    {
     "data": {
      "text/plain": [
       "\n",
       "Call:\n",
       "hclust(d = d, method = \"ward.D\")\n",
       "\n",
       "Cluster method   : ward.D \n",
       "Distance         : euclidean \n",
       "Number of objects: 41 \n"
      ]
     },
     "metadata": {},
     "output_type": "display_data"
    }
   ],
   "source": [
    "hc <- hclust(d, method = \"ward.D\")\n",
    "hc"
   ]
  },
  {
   "cell_type": "code",
   "execution_count": 63,
   "id": "f48c00d1",
   "metadata": {},
   "outputs": [
    {
     "data": {
      "image/png": "[encoded data removed]",
      "text/plain": [
       "Plot with title \"Dendrogramme de la classification des athlètes\""
      ]
     },
     "metadata": {
      "image/png": {
       "height": 480,
       "width": 600
      }
     },
     "output_type": "display_data"
    }
   ],
   "source": [
    "plot(hc, cex = 0.6, hang = -1,, main = \"Dendrogramme de la classification des athlètes\")"
   ]
  },
  {
   "cell_type": "markdown",
   "id": "02c90767",
   "metadata": {},
   "source": [
    "### Qualité des partitions"
   ]
  },
  {
   "cell_type": "code",
   "execution_count": 64,
   "id": "a24d3f58",
   "metadata": {},
   "outputs": [
    {
     "data": {
      "image/png": "[encoded data removed]",
      "text/plain": [
       "Plot with title \"Inter-cluster inertia gains\""
      ]
     },
     "metadata": {
      "image/png": {
       "height": 480,
       "width": 600
      }
     },
     "output_type": "display_data"
    }
   ],
   "source": [
    "cah <- HCPC(data, nb.clust=-1, graph=F)\n",
    "plot(cah, choice='bar')"
   ]
  },
  {
   "cell_type": "markdown",
   "id": "641b3bc9",
   "metadata": {},
   "source": [
    "On remarque que le découpage en 5 groupes garde un pourcentage important d'informations."
   ]
  },
  {
   "cell_type": "markdown",
   "id": "a064eb43",
   "metadata": {},
   "source": [
    "### Découpage"
   ]
  },
  {
   "cell_type": "code",
   "execution_count": 65,
   "id": "10b8d01d",
   "metadata": {},
   "outputs": [
    {
     "name": "stdout",
     "output_type": "stream",
     "text": [
      "     Sebrle        Clay   Zsivoczky        Nool  Schoenbeck      Barras \n",
      "          1           1           1           1           1           1 \n",
      "      Smith    Ojaniemi          Qi Parkhomenko       Uldal     BERNARD \n",
      "          1           1           1           1           1           1 \n",
      "     YURKOV      Karpov     Warners     Bernard    Schwarzl   Averyanov \n",
      "          1           2           2           2           2           2 \n",
      "      Drews   Karlivans     WARNERS       Macey       Hernu     Smirnov \n",
      "          2           2           2           3           3           3 \n",
      "      Gomez     Lorenzo   ZSIVOCZKY   MARTINEAU        NOOL   Pogorelov \n",
      "          3           3           3           3           3           4 \n",
      "      Terek        Turi      SEBRLE    McMULLEN       HERNU      BARRAS \n",
      "          4           4           4           4           4           4 \n",
      "BOURGUIGNON Korkizoglou     Casarsa        CLAY      KARPOV \n",
      "          4           5           5           5           5 \n"
     ]
    }
   ],
   "source": [
    "groupes.cah <- cutree(hc, k=5)\n",
    "print(sort(groupes.cah))"
   ]
  }
 ],
 "metadata": {
  "kernelspec": {
   "display_name": "R",
   "language": "R",
   "name": "ir"
  },
  "language_info": {
   "codemirror_mode": "r",
   "file_extension": ".r",
   "mimetype": "text/x-r-source",
   "name": "R",
   "pygments_lexer": "r",
   "version": "4.0.5"
  }
 },
 "nbformat": 4,
 "nbformat_minor": 5
}
