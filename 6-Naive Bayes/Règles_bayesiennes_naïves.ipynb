{
 "cells": [
  {
   "cell_type": "markdown",
   "id": "0e4d5817",
   "metadata": {},
   "source": [
    "\n",
    "<div class=\"alert\" style=\"background-color:#fff; color:white; padding:0px 10px; border-radius:5px;\">\n",
    "    <h1 style='margin:15px 15px; color:#4B0082; font-size:40px'>Règles bayesiennes naïves </h1>\n",
    "    <h1 style='margin:15px 15px; color:#000; font-size:15px'>Réalisé par : AKHADAM Ayoub</h1>\n",
    "   \n",
    "</div>\n",
    "    \n",
    "    \n",
    "\n",
    "    \n",
    "    12/12/2021\n",
    "    "
   ]
  },
  {
   "cell_type": "code",
   "execution_count": 92,
   "id": "e76e017b",
   "metadata": {},
   "outputs": [],
   "source": [
    "# install.packages(\"e1071\")"
   ]
  },
  {
   "cell_type": "markdown",
   "id": "ed6a6e66",
   "metadata": {},
   "source": [
    "## Jeu de données"
   ]
  },
  {
   "cell_type": "markdown",
   "id": "e211f4be",
   "metadata": {},
   "source": [
    "    Cet ensemble de données comprend les votes de chacun des membres du Congrès de la Chambre des \n",
    "    représentants des États-Unis sur les 16 votes clés identifiés par l'AQC. L'AQC énumère neuf \n",
    "    types de votes différents : \n",
    "        - vote pour, vote jumelé pour et vote annoncé pour (ces trois votes sont simplifiés à \n",
    "           oui)\n",
    "        - vote contre, vote jumelé contre et vote annoncé contre (ces trois votes sont simplifiés \n",
    "        à non)\n",
    "        - vote présent, vote présent pour éviter un conflit d'intérêts et n'a pas voté ou n'a pas \n",
    "        fait connaître sa position (ces trois votes sont simplifiés à une disposition inconnue).\n",
    "    \n",
    "    \n",
    "   \n",
    "   1. Class Name: 2 (democrat, republican)\n",
    "   2. handicapped-infants: 2 (y,n)\n",
    "   3. water-project-cost-sharing: 2 (y,n)\n",
    "   4. adoption-of-the-budget-resolution: 2 (y,n)\n",
    "   5. physician-fee-freeze: 2 (y,n)\n",
    "   6. el-salvador-aid: 2 (y,n)\n",
    "   7. religious-groups-in-schools: 2 (y,n)\n",
    "   8. anti-satellite-test-ban: 2 (y,n)\n",
    "   9. aid-to-nicaraguan-contras: 2 (y,n)\n",
    "   10. mx-missile: 2 (y,n)\n",
    "   11. immigration: 2 (y,n)\n",
    "   12. synfuels-corporation-cutback: 2 (y,n)\n",
    "   13. education-spending: 2 (y,n)\n",
    "   14. superfund-right-to-sue: 2 (y,n)\n",
    "   15. crime: 2 (y,n)\n",
    "   16. duty-free-exports: 2 (y,n)\n",
    "   17. export-administration-act-south-africa: 2 (y,n)\n"
   ]
  },
  {
   "cell_type": "markdown",
   "id": "55b81012",
   "metadata": {},
   "source": [
    "### Objectif\n",
    "    Entrainer un modéle qui permet de prédire à quel parti est affilié un membre du Congrès des \n",
    "    États-Unis sur la base de ses résultats de vote."
   ]
  },
  {
   "cell_type": "code",
   "execution_count": 104,
   "id": "d2c9fb33",
   "metadata": {},
   "outputs": [
    {
     "data": {
      "text/html": [
       "<table class=\"dataframe\">\n",
       "<caption>A data.frame: 6 × 17</caption>\n",
       "<thead>\n",
       "\t<tr><th></th><th scope=col>Class</th><th scope=col>V1</th><th scope=col>V2</th><th scope=col>V3</th><th scope=col>V4</th><th scope=col>V5</th><th scope=col>V6</th><th scope=col>V7</th><th scope=col>V8</th><th scope=col>V9</th><th scope=col>V10</th><th scope=col>V11</th><th scope=col>V12</th><th scope=col>V13</th><th scope=col>V14</th><th scope=col>V15</th><th scope=col>V16</th></tr>\n",
       "\t<tr><th></th><th scope=col>&lt;chr&gt;</th><th scope=col>&lt;chr&gt;</th><th scope=col>&lt;chr&gt;</th><th scope=col>&lt;chr&gt;</th><th scope=col>&lt;chr&gt;</th><th scope=col>&lt;chr&gt;</th><th scope=col>&lt;chr&gt;</th><th scope=col>&lt;chr&gt;</th><th scope=col>&lt;chr&gt;</th><th scope=col>&lt;chr&gt;</th><th scope=col>&lt;chr&gt;</th><th scope=col>&lt;chr&gt;</th><th scope=col>&lt;chr&gt;</th><th scope=col>&lt;chr&gt;</th><th scope=col>&lt;chr&gt;</th><th scope=col>&lt;chr&gt;</th><th scope=col>&lt;chr&gt;</th></tr>\n",
       "</thead>\n",
       "<tbody>\n",
       "\t<tr><th scope=row>1</th><td>republican</td><td>n </td><td>y</td><td>n</td><td>y </td><td>y </td><td>y</td><td>n</td><td>n</td><td>n</td><td>y</td><td>NA</td><td>y </td><td>y</td><td>y</td><td>n</td><td>y </td></tr>\n",
       "\t<tr><th scope=row>2</th><td>republican</td><td>n </td><td>y</td><td>n</td><td>y </td><td>y </td><td>y</td><td>n</td><td>n</td><td>n</td><td>n</td><td>n </td><td>y </td><td>y</td><td>y</td><td>n</td><td>NA</td></tr>\n",
       "\t<tr><th scope=row>3</th><td>democrat  </td><td>NA</td><td>y</td><td>y</td><td>NA</td><td>y </td><td>y</td><td>n</td><td>n</td><td>n</td><td>n</td><td>y </td><td>n </td><td>y</td><td>y</td><td>n</td><td>n </td></tr>\n",
       "\t<tr><th scope=row>4</th><td>democrat  </td><td>n </td><td>y</td><td>y</td><td>n </td><td>NA</td><td>y</td><td>n</td><td>n</td><td>n</td><td>n</td><td>y </td><td>n </td><td>y</td><td>n</td><td>n</td><td>y </td></tr>\n",
       "\t<tr><th scope=row>5</th><td>democrat  </td><td>y </td><td>y</td><td>y</td><td>n </td><td>y </td><td>y</td><td>n</td><td>n</td><td>n</td><td>n</td><td>y </td><td>NA</td><td>y</td><td>y</td><td>y</td><td>y </td></tr>\n",
       "\t<tr><th scope=row>6</th><td>democrat  </td><td>n </td><td>y</td><td>y</td><td>n </td><td>y </td><td>y</td><td>n</td><td>n</td><td>n</td><td>n</td><td>n </td><td>n </td><td>y</td><td>y</td><td>y</td><td>y </td></tr>\n",
       "</tbody>\n",
       "</table>\n"
      ],
      "text/latex": [
       "A data.frame: 6 × 17\n",
       "\\begin{tabular}{r|lllllllllllllllll}\n",
       "  & Class & V1 & V2 & V3 & V4 & V5 & V6 & V7 & V8 & V9 & V10 & V11 & V12 & V13 & V14 & V15 & V16\\\\\n",
       "  & <chr> & <chr> & <chr> & <chr> & <chr> & <chr> & <chr> & <chr> & <chr> & <chr> & <chr> & <chr> & <chr> & <chr> & <chr> & <chr> & <chr>\\\\\n",
       "\\hline\n",
       "\t1 & republican & n  & y & n & y  & y  & y & n & n & n & y & NA & y  & y & y & n & y \\\\\n",
       "\t2 & republican & n  & y & n & y  & y  & y & n & n & n & n & n  & y  & y & y & n & NA\\\\\n",
       "\t3 & democrat   & NA & y & y & NA & y  & y & n & n & n & n & y  & n  & y & y & n & n \\\\\n",
       "\t4 & democrat   & n  & y & y & n  & NA & y & n & n & n & n & y  & n  & y & n & n & y \\\\\n",
       "\t5 & democrat   & y  & y & y & n  & y  & y & n & n & n & n & y  & NA & y & y & y & y \\\\\n",
       "\t6 & democrat   & n  & y & y & n  & y  & y & n & n & n & n & n  & n  & y & y & y & y \\\\\n",
       "\\end{tabular}\n"
      ],
      "text/markdown": [
       "\n",
       "A data.frame: 6 × 17\n",
       "\n",
       "| <!--/--> | Class &lt;chr&gt; | V1 &lt;chr&gt; | V2 &lt;chr&gt; | V3 &lt;chr&gt; | V4 &lt;chr&gt; | V5 &lt;chr&gt; | V6 &lt;chr&gt; | V7 &lt;chr&gt; | V8 &lt;chr&gt; | V9 &lt;chr&gt; | V10 &lt;chr&gt; | V11 &lt;chr&gt; | V12 &lt;chr&gt; | V13 &lt;chr&gt; | V14 &lt;chr&gt; | V15 &lt;chr&gt; | V16 &lt;chr&gt; |\n",
       "|---|---|---|---|---|---|---|---|---|---|---|---|---|---|---|---|---|---|\n",
       "| 1 | republican | n  | y | n | y  | y  | y | n | n | n | y | NA | y  | y | y | n | y  |\n",
       "| 2 | republican | n  | y | n | y  | y  | y | n | n | n | n | n  | y  | y | y | n | NA |\n",
       "| 3 | democrat   | NA | y | y | NA | y  | y | n | n | n | n | y  | n  | y | y | n | n  |\n",
       "| 4 | democrat   | n  | y | y | n  | NA | y | n | n | n | n | y  | n  | y | n | n | y  |\n",
       "| 5 | democrat   | y  | y | y | n  | y  | y | n | n | n | n | y  | NA | y | y | y | y  |\n",
       "| 6 | democrat   | n  | y | y | n  | y  | y | n | n | n | n | n  | n  | y | y | y | y  |\n",
       "\n"
      ],
      "text/plain": [
       "  Class      V1 V2 V3 V4 V5 V6 V7 V8 V9 V10 V11 V12 V13 V14 V15 V16\n",
       "1 republican n  y  n  y  y  y  n  n  n  y   NA  y   y   y   n   y  \n",
       "2 republican n  y  n  y  y  y  n  n  n  n   n   y   y   y   n   NA \n",
       "3 democrat   NA y  y  NA y  y  n  n  n  n   y   n   y   y   n   n  \n",
       "4 democrat   n  y  y  n  NA y  n  n  n  n   y   n   y   n   n   y  \n",
       "5 democrat   y  y  y  n  y  y  n  n  n  n   y   NA  y   y   y   y  \n",
       "6 democrat   n  y  y  n  y  y  n  n  n  n   n   n   y   y   y   y  "
      ]
     },
     "metadata": {},
     "output_type": "display_data"
    }
   ],
   "source": [
    "housevotes <- read.csv('HouseVotes84.csv')\n",
    "head(housevotes)"
   ]
  },
  {
   "cell_type": "code",
   "execution_count": 105,
   "id": "630ee25b",
   "metadata": {},
   "outputs": [
    {
     "data": {
      "text/html": [
       "<style>\n",
       ".list-inline {list-style: none; margin:0; padding: 0}\n",
       ".list-inline>li {display: inline-block}\n",
       ".list-inline>li:not(:last-child)::after {content: \"\\00b7\"; padding: 0 .5ex}\n",
       "</style>\n",
       "<ol class=list-inline><li>'Class'</li><li>'V1'</li><li>'V2'</li><li>'V3'</li><li>'V4'</li><li>'V5'</li><li>'V6'</li><li>'V7'</li><li>'V8'</li><li>'V9'</li><li>'V10'</li><li>'V11'</li><li>'V12'</li><li>'V13'</li><li>'V14'</li><li>'V15'</li><li>'V16'</li></ol>\n"
      ],
      "text/latex": [
       "\\begin{enumerate*}\n",
       "\\item 'Class'\n",
       "\\item 'V1'\n",
       "\\item 'V2'\n",
       "\\item 'V3'\n",
       "\\item 'V4'\n",
       "\\item 'V5'\n",
       "\\item 'V6'\n",
       "\\item 'V7'\n",
       "\\item 'V8'\n",
       "\\item 'V9'\n",
       "\\item 'V10'\n",
       "\\item 'V11'\n",
       "\\item 'V12'\n",
       "\\item 'V13'\n",
       "\\item 'V14'\n",
       "\\item 'V15'\n",
       "\\item 'V16'\n",
       "\\end{enumerate*}\n"
      ],
      "text/markdown": [
       "1. 'Class'\n",
       "2. 'V1'\n",
       "3. 'V2'\n",
       "4. 'V3'\n",
       "5. 'V4'\n",
       "6. 'V5'\n",
       "7. 'V6'\n",
       "8. 'V7'\n",
       "9. 'V8'\n",
       "10. 'V9'\n",
       "11. 'V10'\n",
       "12. 'V11'\n",
       "13. 'V12'\n",
       "14. 'V13'\n",
       "15. 'V14'\n",
       "16. 'V15'\n",
       "17. 'V16'\n",
       "\n",
       "\n"
      ],
      "text/plain": [
       " [1] \"Class\" \"V1\"    \"V2\"    \"V3\"    \"V4\"    \"V5\"    \"V6\"    \"V7\"    \"V8\"   \n",
       "[10] \"V9\"    \"V10\"   \"V11\"   \"V12\"   \"V13\"   \"V14\"   \"V15\"   \"V16\"  "
      ]
     },
     "metadata": {},
     "output_type": "display_data"
    }
   ],
   "source": [
    "names(housevotes)"
   ]
  },
  {
   "cell_type": "code",
   "execution_count": 106,
   "id": "58c06850",
   "metadata": {},
   "outputs": [
    {
     "data": {
      "text/html": [
       "<style>\n",
       ".list-inline {list-style: none; margin:0; padding: 0}\n",
       ".list-inline>li {display: inline-block}\n",
       ".list-inline>li:not(:last-child)::after {content: \"\\00b7\"; padding: 0 .5ex}\n",
       "</style>\n",
       "<ol class=list-inline><li>435</li><li>17</li></ol>\n"
      ],
      "text/latex": [
       "\\begin{enumerate*}\n",
       "\\item 435\n",
       "\\item 17\n",
       "\\end{enumerate*}\n"
      ],
      "text/markdown": [
       "1. 435\n",
       "2. 17\n",
       "\n",
       "\n"
      ],
      "text/plain": [
       "[1] 435  17"
      ]
     },
     "metadata": {},
     "output_type": "display_data"
    }
   ],
   "source": [
    "dim(housevotes)"
   ]
  },
  {
   "cell_type": "code",
   "execution_count": 107,
   "id": "368f6ff8",
   "metadata": {},
   "outputs": [
    {
     "data": {
      "text/plain": [
       "    Class                V1                 V2                 V3           \n",
       " Length:435         Length:435         Length:435         Length:435        \n",
       " Class :character   Class :character   Class :character   Class :character  \n",
       " Mode  :character   Mode  :character   Mode  :character   Mode  :character  \n",
       "      V4                 V5                 V6                 V7           \n",
       " Length:435         Length:435         Length:435         Length:435        \n",
       " Class :character   Class :character   Class :character   Class :character  \n",
       " Mode  :character   Mode  :character   Mode  :character   Mode  :character  \n",
       "      V8                 V9                V10                V11           \n",
       " Length:435         Length:435         Length:435         Length:435        \n",
       " Class :character   Class :character   Class :character   Class :character  \n",
       " Mode  :character   Mode  :character   Mode  :character   Mode  :character  \n",
       "     V12                V13                V14                V15           \n",
       " Length:435         Length:435         Length:435         Length:435        \n",
       " Class :character   Class :character   Class :character   Class :character  \n",
       " Mode  :character   Mode  :character   Mode  :character   Mode  :character  \n",
       "     V16           \n",
       " Length:435        \n",
       " Class :character  \n",
       " Mode  :character  "
      ]
     },
     "metadata": {},
     "output_type": "display_data"
    }
   ],
   "source": [
    "summary(housevotes)"
   ]
  },
  {
   "cell_type": "markdown",
   "id": "30c4b448",
   "metadata": {},
   "source": [
    "#### Partionner les données en deux ensembles, 80% pour l'entainement  et 20% pour le test."
   ]
  },
  {
   "cell_type": "code",
   "execution_count": 108,
   "id": "ee09e360",
   "metadata": {},
   "outputs": [],
   "source": [
    "s <- sample(nrow(housevotes), nrow(housevotes)*.8)\n",
    "votes_training <- housevotes[s, ]\n",
    "votes_testing <-  housevotes[-s, ]"
   ]
  },
  {
   "cell_type": "code",
   "execution_count": 109,
   "id": "d8a0b307",
   "metadata": {},
   "outputs": [
    {
     "data": {
      "text/html": [
       "<style>\n",
       ".list-inline {list-style: none; margin:0; padding: 0}\n",
       ".list-inline>li {display: inline-block}\n",
       ".list-inline>li:not(:last-child)::after {content: \"\\00b7\"; padding: 0 .5ex}\n",
       "</style>\n",
       "<ol class=list-inline><li>348</li><li>17</li></ol>\n"
      ],
      "text/latex": [
       "\\begin{enumerate*}\n",
       "\\item 348\n",
       "\\item 17\n",
       "\\end{enumerate*}\n"
      ],
      "text/markdown": [
       "1. 348\n",
       "2. 17\n",
       "\n",
       "\n"
      ],
      "text/plain": [
       "[1] 348  17"
      ]
     },
     "metadata": {},
     "output_type": "display_data"
    },
    {
     "data": {
      "text/html": [
       "<style>\n",
       ".list-inline {list-style: none; margin:0; padding: 0}\n",
       ".list-inline>li {display: inline-block}\n",
       ".list-inline>li:not(:last-child)::after {content: \"\\00b7\"; padding: 0 .5ex}\n",
       "</style>\n",
       "<ol class=list-inline><li>87</li><li>17</li></ol>\n"
      ],
      "text/latex": [
       "\\begin{enumerate*}\n",
       "\\item 87\n",
       "\\item 17\n",
       "\\end{enumerate*}\n"
      ],
      "text/markdown": [
       "1. 87\n",
       "2. 17\n",
       "\n",
       "\n"
      ],
      "text/plain": [
       "[1] 87 17"
      ]
     },
     "metadata": {},
     "output_type": "display_data"
    }
   ],
   "source": [
    "dim(votes_training)\n",
    "dim(votes_testing)"
   ]
  },
  {
   "cell_type": "markdown",
   "id": "04b9df68",
   "metadata": {},
   "source": [
    "#### Entrainement du model Naive Bayes"
   ]
  },
  {
   "cell_type": "code",
   "execution_count": 110,
   "id": "183764b3",
   "metadata": {},
   "outputs": [],
   "source": [
    "library(e1071)\n",
    "nb <- naiveBayes(Class ~ ., data = votes_training)"
   ]
  },
  {
   "cell_type": "code",
   "execution_count": 111,
   "id": "52fc854d",
   "metadata": {},
   "outputs": [
    {
     "data": {
      "text/plain": [
       "\n",
       "Naive Bayes Classifier for Discrete Predictors\n",
       "\n",
       "Call:\n",
       "naiveBayes.default(x = X, y = Y, laplace = laplace)\n",
       "\n",
       "A-priori probabilities:\n",
       "Y\n",
       "  democrat republican \n",
       " 0.6034483  0.3965517 \n",
       "\n",
       "Conditional probabilities:\n",
       "            V1\n",
       "Y                    n         y\n",
       "  democrat   0.4009901 0.5990099\n",
       "  republican 0.7941176 0.2058824\n",
       "\n",
       "            V2\n",
       "Y                    n         y\n",
       "  democrat   0.5026455 0.4973545\n",
       "  republican 0.4959350 0.5040650\n",
       "\n",
       "            V3\n",
       "Y                    n         y\n",
       "  democrat   0.1083744 0.8916256\n",
       "  republican 0.8529412 0.1470588\n",
       "\n",
       "            V4\n",
       "Y                     n          y\n",
       "  democrat   0.94117647 0.05882353\n",
       "  republican 0.01459854 0.98540146\n",
       "\n",
       "            V5\n",
       "Y                     n          y\n",
       "  democrat   0.77500000 0.22500000\n",
       "  republican 0.05839416 0.94160584\n",
       "\n",
       "            V6\n",
       "Y                    n         y\n",
       "  democrat   0.5024390 0.4975610\n",
       "  republican 0.1231884 0.8768116\n",
       "\n",
       "            V7\n",
       "Y                    n         y\n",
       "  democrat   0.2450980 0.7549020\n",
       "  republican 0.7333333 0.2666667\n",
       "\n",
       "            V8\n",
       "Y                    n         y\n",
       "  democrat   0.1844660 0.8155340\n",
       "  republican 0.8230769 0.1769231\n",
       "\n",
       "            V9\n",
       "Y                    n         y\n",
       "  democrat   0.2552083 0.7447917\n",
       "  republican 0.8768116 0.1231884\n",
       "\n",
       "            V10\n",
       "Y                    n         y\n",
       "  democrat   0.5410628 0.4589372\n",
       "  republican 0.4637681 0.5362319\n",
       "\n",
       "            V11\n",
       "Y                    n         y\n",
       "  democrat   0.4850000 0.5150000\n",
       "  republican 0.8778626 0.1221374\n",
       "\n",
       "            V12\n",
       "Y                    n         y\n",
       "  democrat   0.8497409 0.1502591\n",
       "  republican 0.1395349 0.8604651\n",
       "\n",
       "            V13\n",
       "Y                    n         y\n",
       "  democrat   0.7091837 0.2908163\n",
       "  republican 0.1603053 0.8396947\n",
       "\n",
       "            V14\n",
       "Y                     n          y\n",
       "  democrat   0.65000000 0.35000000\n",
       "  republican 0.01515152 0.98484848\n",
       "\n",
       "            V15\n",
       "Y                     n          y\n",
       "  democrat   0.37878788 0.62121212\n",
       "  republican 0.90697674 0.09302326\n",
       "\n",
       "            V16\n",
       "Y                     n          y\n",
       "  democrat   0.06849315 0.93150685\n",
       "  republican 0.31932773 0.68067227\n"
      ]
     },
     "metadata": {},
     "output_type": "display_data"
    }
   ],
   "source": [
    "nb"
   ]
  },
  {
   "cell_type": "code",
   "execution_count": 112,
   "id": "5d65cf75",
   "metadata": {},
   "outputs": [
    {
     "data": {
      "text/plain": [
       "            \n",
       "pred         democrat republican\n",
       "  democrat         50          1\n",
       "  republican        7         29"
      ]
     },
     "metadata": {},
     "output_type": "display_data"
    }
   ],
   "source": [
    "pred <- predict(nb, votes_testing)\n",
    "table(pred, votes_testing$Class)"
   ]
  },
  {
   "cell_type": "markdown",
   "id": "cbdb4539",
   "metadata": {},
   "source": [
    "#### Matrice de confusion"
   ]
  },
  {
   "cell_type": "code",
   "execution_count": 113,
   "id": "d045c690",
   "metadata": {},
   "outputs": [
    {
     "data": {
      "text/plain": [
       "Confusion Matrix and Statistics\n",
       "\n",
       "            Reference\n",
       "Prediction   democrat republican\n",
       "  democrat         50          1\n",
       "  republican        7         29\n",
       "                                          \n",
       "               Accuracy : 0.908           \n",
       "                 95% CI : (0.8268, 0.9595)\n",
       "    No Information Rate : 0.6552          \n",
       "    P-Value [Acc > NIR] : 4.447e-08       \n",
       "                                          \n",
       "                  Kappa : 0.8057          \n",
       "                                          \n",
       " Mcnemar's Test P-Value : 0.0771          \n",
       "                                          \n",
       "            Sensitivity : 0.8772          \n",
       "            Specificity : 0.9667          \n",
       "         Pos Pred Value : 0.9804          \n",
       "         Neg Pred Value : 0.8056          \n",
       "             Prevalence : 0.6552          \n",
       "         Detection Rate : 0.5747          \n",
       "   Detection Prevalence : 0.5862          \n",
       "      Balanced Accuracy : 0.9219          \n",
       "                                          \n",
       "       'Positive' Class : democrat        \n",
       "                                          "
      ]
     },
     "metadata": {},
     "output_type": "display_data"
    }
   ],
   "source": [
    "library(caret)\n",
    "confusionMatrix(pred, as.factor(votes_testing$Class) )"
   ]
  },
  {
   "cell_type": "markdown",
   "id": "2f26d32d",
   "metadata": {},
   "source": [
    "#### Résultats"
   ]
  },
  {
   "cell_type": "markdown",
   "id": "6bc4f8ff",
   "metadata": {},
   "source": [
    "    - Parmi les 57 démocrates : 50 sont classés comme démocrates et 7 comme républicains.\n",
    "    - Parmi les 30 républicains : 29 sont classés comme républicains et 1 comme démocrate.\n",
    "    - La précision du modèle est de 90,8%."
   ]
  }
 ],
 "metadata": {
  "kernelspec": {
   "display_name": "R",
   "language": "R",
   "name": "ir"
  },
  "language_info": {
   "codemirror_mode": "r",
   "file_extension": ".r",
   "mimetype": "text/x-r-source",
   "name": "R",
   "pygments_lexer": "r",
   "version": "4.0.5"
  }
 },
 "nbformat": 4,
 "nbformat_minor": 5
}
