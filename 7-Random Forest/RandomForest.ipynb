{
 "cells": [
  {
   "cell_type": "markdown",
   "id": "35db94a6",
   "metadata": {},
   "source": [
    "<h1><center>Random Forest</center></h1>\n",
    "\n",
    "\n",
    "\n",
    "**Réalisé par:**\n",
    "- AKHADAM Ayoub\n",
    "\n",
    " 24/12/2021"
   ]
  },
  {
   "cell_type": "markdown",
   "id": "cc738ba0",
   "metadata": {},
   "source": [
    "## Chargement des packages nécessaires"
   ]
  },
  {
   "cell_type": "code",
   "execution_count": 1,
   "id": "29f29dc7",
   "metadata": {},
   "outputs": [],
   "source": [
    "#install.packages(\"randomForest\")"
   ]
  },
  {
   "cell_type": "code",
   "execution_count": 15,
   "id": "b7de5f87",
   "metadata": {},
   "outputs": [],
   "source": [
    "library(tidyverse)\n",
    "library(caret)\n",
    "library(randomForest)\n",
    "library(ggplot2)\n",
    "library(cowplot)"
   ]
  },
  {
   "cell_type": "markdown",
   "id": "c6354e36",
   "metadata": {},
   "source": [
    "### Jeu de données"
   ]
  },
  {
   "cell_type": "markdown",
   "id": "c0e01da4",
   "metadata": {},
   "source": [
    "Cet ensemble de données  se compose de quatre bases de données : Cleveland, Hongrie, Suisse et Long Beach V. Le champ \"cible\" fait référence à la présence d'une maladie cardiaque chez le patient. Il a une valeur entière de 0 = pas de maladie et de 1 = maladie.\n",
    "    \n",
    "Les données comportent 303 observations et 14 variables. Chaque observation contient les informations suivantes sur un individu.\n",
    "\n",
    "- age: Age de l'individu en années.\n",
    "\n",
    "\n",
    "- sex: Sexe de l'individu(1 = homme ; 0 = femme)\n",
    "\n",
    "\n",
    "- cp: Type de douleur thoracique (1 = angine typique ; 2 = angine atypique ; 3 = douleur non angineuse ; 4 = asymptomatique)\n",
    "\n",
    "\n",
    "- trestbps: Tension artérielle au repos (en mm Hg à l'admission à l'hôpital)\n",
    "\n",
    "\n",
    "- chol: Cholestérol sérique en mg/dl\n",
    "\n",
    "\n",
    "- fbs: Glycémie à jeun > 120 mg/dl (1 = vrai ; 0 = faux)\n",
    "\n",
    "\n",
    "- restecg: Résultats électrocardiographiques au repos (0 = normal ; 1 = présentant un ST-T ; 2 = hypertrophie)\n",
    "\n",
    "\n",
    "- thalach: Fréquence cardiaque maximale atteinte\n",
    "\n",
    "\n",
    "- exang: Angine de poitrine induite par l'exercice (1 = oui ; 0 = non)\n",
    "\n",
    "\n",
    "- oldpeak: Dépression ST induite par l'exercice par rapport au repos\n",
    "\n",
    "\n",
    "- slope: La pente du segment ST de pointe à l'effort (1 = pente ascendante ; 2 = pente plate ; 3 = pente descendante)\n",
    "\n",
    "\n",
    "- ca: Nombre de vaisseaux principaux (0-4) colorés par la flourosopie\n",
    "\n",
    "\n",
    "- thal: La thalassémie est un trouble sanguin héréditaire qui affecte la capacité de l'organisme à produire de l'hémoglobine et des globules rouges. 1 = normal ; 2 = défaut fixe ; 3 = défaut réversible\n",
    "\n",
    "\n",
    "- target: l'attribut prédit - diagnostic de maladie cardiaque (statut de la maladie angiographique) (Valeur 0 = < 50% de rétrécissement du diamètre ; Valeur 1 = > 50% de rétrécissement du diamètre)\n",
    "    "
   ]
  },
  {
   "cell_type": "markdown",
   "id": "d406d2a7",
   "metadata": {},
   "source": [
    "## Objectif\n",
    "\n",
    "L'objectif est de prédire si une personne donnée est atteinte d'une maladie cardiaque ou non en utilisant RandomForest."
   ]
  },
  {
   "cell_type": "code",
   "execution_count": 3,
   "id": "49c27556",
   "metadata": {},
   "outputs": [],
   "source": [
    "data = read.csv('data_heart.csv')"
   ]
  },
  {
   "cell_type": "code",
   "execution_count": 4,
   "id": "a1102dd8",
   "metadata": {},
   "outputs": [
    {
     "data": {
      "text/html": [
       "<table class=\"dataframe\">\n",
       "<caption>A data.frame: 6 × 14</caption>\n",
       "<thead>\n",
       "\t<tr><th></th><th scope=col>ï..age</th><th scope=col>sex</th><th scope=col>cp</th><th scope=col>trestbps</th><th scope=col>chol</th><th scope=col>fbs</th><th scope=col>restecg</th><th scope=col>thalach</th><th scope=col>exang</th><th scope=col>oldpeak</th><th scope=col>slope</th><th scope=col>ca</th><th scope=col>thal</th><th scope=col>target</th></tr>\n",
       "\t<tr><th></th><th scope=col>&lt;int&gt;</th><th scope=col>&lt;chr&gt;</th><th scope=col>&lt;int&gt;</th><th scope=col>&lt;int&gt;</th><th scope=col>&lt;int&gt;</th><th scope=col>&lt;int&gt;</th><th scope=col>&lt;int&gt;</th><th scope=col>&lt;int&gt;</th><th scope=col>&lt;int&gt;</th><th scope=col>&lt;dbl&gt;</th><th scope=col>&lt;int&gt;</th><th scope=col>&lt;int&gt;</th><th scope=col>&lt;int&gt;</th><th scope=col>&lt;chr&gt;</th></tr>\n",
       "</thead>\n",
       "<tbody>\n",
       "\t<tr><th scope=row>1</th><td>63</td><td>M</td><td>3</td><td>145</td><td>233</td><td>1</td><td>0</td><td>150</td><td>0</td><td>2.3</td><td>0</td><td>1</td><td>2</td><td>Unhealthy</td></tr>\n",
       "\t<tr><th scope=row>2</th><td>37</td><td>M</td><td>2</td><td>130</td><td>250</td><td>0</td><td>1</td><td>187</td><td>0</td><td>3.5</td><td>0</td><td>1</td><td>3</td><td>Unhealthy</td></tr>\n",
       "\t<tr><th scope=row>3</th><td>41</td><td>F</td><td>1</td><td>130</td><td>204</td><td>0</td><td>0</td><td>172</td><td>0</td><td>1.4</td><td>2</td><td>1</td><td>3</td><td>Unhealthy</td></tr>\n",
       "\t<tr><th scope=row>4</th><td>56</td><td>M</td><td>1</td><td>120</td><td>236</td><td>0</td><td>1</td><td>178</td><td>0</td><td>0.8</td><td>2</td><td>1</td><td>3</td><td>Unhealthy</td></tr>\n",
       "\t<tr><th scope=row>5</th><td>57</td><td>F</td><td>0</td><td>120</td><td>354</td><td>0</td><td>1</td><td>163</td><td>1</td><td>0.6</td><td>2</td><td>1</td><td>3</td><td>Unhealthy</td></tr>\n",
       "\t<tr><th scope=row>6</th><td>57</td><td>M</td><td>0</td><td>140</td><td>192</td><td>0</td><td>1</td><td>148</td><td>0</td><td>0.4</td><td>1</td><td>1</td><td>2</td><td>Unhealthy</td></tr>\n",
       "</tbody>\n",
       "</table>\n"
      ],
      "text/latex": [
       "A data.frame: 6 × 14\n",
       "\\begin{tabular}{r|llllllllllllll}\n",
       "  & ï..age & sex & cp & trestbps & chol & fbs & restecg & thalach & exang & oldpeak & slope & ca & thal & target\\\\\n",
       "  & <int> & <chr> & <int> & <int> & <int> & <int> & <int> & <int> & <int> & <dbl> & <int> & <int> & <int> & <chr>\\\\\n",
       "\\hline\n",
       "\t1 & 63 & M & 3 & 145 & 233 & 1 & 0 & 150 & 0 & 2.3 & 0 & 1 & 2 & Unhealthy\\\\\n",
       "\t2 & 37 & M & 2 & 130 & 250 & 0 & 1 & 187 & 0 & 3.5 & 0 & 1 & 3 & Unhealthy\\\\\n",
       "\t3 & 41 & F & 1 & 130 & 204 & 0 & 0 & 172 & 0 & 1.4 & 2 & 1 & 3 & Unhealthy\\\\\n",
       "\t4 & 56 & M & 1 & 120 & 236 & 0 & 1 & 178 & 0 & 0.8 & 2 & 1 & 3 & Unhealthy\\\\\n",
       "\t5 & 57 & F & 0 & 120 & 354 & 0 & 1 & 163 & 1 & 0.6 & 2 & 1 & 3 & Unhealthy\\\\\n",
       "\t6 & 57 & M & 0 & 140 & 192 & 0 & 1 & 148 & 0 & 0.4 & 1 & 1 & 2 & Unhealthy\\\\\n",
       "\\end{tabular}\n"
      ],
      "text/markdown": [
       "\n",
       "A data.frame: 6 × 14\n",
       "\n",
       "| <!--/--> | ï..age &lt;int&gt; | sex &lt;chr&gt; | cp &lt;int&gt; | trestbps &lt;int&gt; | chol &lt;int&gt; | fbs &lt;int&gt; | restecg &lt;int&gt; | thalach &lt;int&gt; | exang &lt;int&gt; | oldpeak &lt;dbl&gt; | slope &lt;int&gt; | ca &lt;int&gt; | thal &lt;int&gt; | target &lt;chr&gt; |\n",
       "|---|---|---|---|---|---|---|---|---|---|---|---|---|---|---|\n",
       "| 1 | 63 | M | 3 | 145 | 233 | 1 | 0 | 150 | 0 | 2.3 | 0 | 1 | 2 | Unhealthy |\n",
       "| 2 | 37 | M | 2 | 130 | 250 | 0 | 1 | 187 | 0 | 3.5 | 0 | 1 | 3 | Unhealthy |\n",
       "| 3 | 41 | F | 1 | 130 | 204 | 0 | 0 | 172 | 0 | 1.4 | 2 | 1 | 3 | Unhealthy |\n",
       "| 4 | 56 | M | 1 | 120 | 236 | 0 | 1 | 178 | 0 | 0.8 | 2 | 1 | 3 | Unhealthy |\n",
       "| 5 | 57 | F | 0 | 120 | 354 | 0 | 1 | 163 | 1 | 0.6 | 2 | 1 | 3 | Unhealthy |\n",
       "| 6 | 57 | M | 0 | 140 | 192 | 0 | 1 | 148 | 0 | 0.4 | 1 | 1 | 2 | Unhealthy |\n",
       "\n"
      ],
      "text/plain": [
       "  ï..age sex cp trestbps chol fbs restecg thalach exang oldpeak slope ca thal\n",
       "1 63     M   3  145      233  1   0       150     0     2.3     0     1  2   \n",
       "2 37     M   2  130      250  0   1       187     0     3.5     0     1  3   \n",
       "3 41     F   1  130      204  0   0       172     0     1.4     2     1  3   \n",
       "4 56     M   1  120      236  0   1       178     0     0.8     2     1  3   \n",
       "5 57     F   0  120      354  0   1       163     1     0.6     2     1  3   \n",
       "6 57     M   0  140      192  0   1       148     0     0.4     1     1  2   \n",
       "  target   \n",
       "1 Unhealthy\n",
       "2 Unhealthy\n",
       "3 Unhealthy\n",
       "4 Unhealthy\n",
       "5 Unhealthy\n",
       "6 Unhealthy"
      ]
     },
     "metadata": {},
     "output_type": "display_data"
    }
   ],
   "source": [
    "head(data)"
   ]
  },
  {
   "cell_type": "code",
   "execution_count": 5,
   "id": "9dce0fdd",
   "metadata": {},
   "outputs": [
    {
     "name": "stdout",
     "output_type": "stream",
     "text": [
      "'data.frame':\t303 obs. of  14 variables:\n",
      " $ ï..age  : int  63 37 41 56 57 57 56 44 52 57 ...\n",
      " $ sex     : chr  \"M\" \"M\" \"F\" \"M\" ...\n",
      " $ cp      : int  3 2 1 1 0 0 1 1 2 2 ...\n",
      " $ trestbps: int  145 130 130 120 120 140 140 120 172 150 ...\n",
      " $ chol    : int  233 250 204 236 354 192 294 263 199 168 ...\n",
      " $ fbs     : int  1 0 0 0 0 0 0 0 1 0 ...\n",
      " $ restecg : int  0 1 0 1 1 1 0 1 1 1 ...\n",
      " $ thalach : int  150 187 172 178 163 148 153 173 162 174 ...\n",
      " $ exang   : int  0 0 0 0 1 0 0 0 0 0 ...\n",
      " $ oldpeak : num  2.3 3.5 1.4 0.8 0.6 0.4 1.3 0 0.5 1.6 ...\n",
      " $ slope   : int  0 0 2 2 2 1 1 2 2 2 ...\n",
      " $ ca      : int  1 1 1 1 1 1 1 1 1 1 ...\n",
      " $ thal    : int  2 3 3 3 3 2 3 4 4 3 ...\n",
      " $ target  : chr  \"Unhealthy\" \"Unhealthy\" \"Unhealthy\" \"Unhealthy\" ...\n"
     ]
    }
   ],
   "source": [
    "str(data)"
   ]
  },
  {
   "cell_type": "code",
   "execution_count": 6,
   "id": "492ebf1c",
   "metadata": {},
   "outputs": [],
   "source": [
    "data$sex <- as.factor(data$sex)\n",
    "data$cp <- as.factor(data$cp)\n",
    "data$fbs <- as.factor(data$fbs)\n",
    "data$restecg <- as.factor(data$restecg)\n",
    "data$exang <- as.factor(data$exang)\n",
    "data$slope <- as.factor(data$slope)\n",
    "data$ca <- as.factor(data$ca)  \n",
    "data$thal <- as.factor(data$thal)\n",
    "data$target <- as.factor(data$target)"
   ]
  },
  {
   "cell_type": "code",
   "execution_count": 7,
   "id": "7fcce7bb",
   "metadata": {},
   "outputs": [
    {
     "name": "stdout",
     "output_type": "stream",
     "text": [
      "'data.frame':\t303 obs. of  14 variables:\n",
      " $ ï..age  : int  63 37 41 56 57 57 56 44 52 57 ...\n",
      " $ sex     : Factor w/ 2 levels \"F\",\"M\": 2 2 1 2 1 2 1 2 2 2 ...\n",
      " $ cp      : Factor w/ 4 levels \"0\",\"1\",\"2\",\"3\": 4 3 2 2 1 1 2 2 3 3 ...\n",
      " $ trestbps: int  145 130 130 120 120 140 140 120 172 150 ...\n",
      " $ chol    : int  233 250 204 236 354 192 294 263 199 168 ...\n",
      " $ fbs     : Factor w/ 2 levels \"0\",\"1\": 2 1 1 1 1 1 1 1 2 1 ...\n",
      " $ restecg : Factor w/ 3 levels \"0\",\"1\",\"2\": 1 2 1 2 2 2 1 2 2 2 ...\n",
      " $ thalach : int  150 187 172 178 163 148 153 173 162 174 ...\n",
      " $ exang   : Factor w/ 2 levels \"0\",\"1\": 1 1 1 1 2 1 1 1 1 1 ...\n",
      " $ oldpeak : num  2.3 3.5 1.4 0.8 0.6 0.4 1.3 0 0.5 1.6 ...\n",
      " $ slope   : Factor w/ 3 levels \"0\",\"1\",\"2\": 1 1 3 3 3 2 2 3 3 3 ...\n",
      " $ ca      : Factor w/ 5 levels \"1\",\"2\",\"3\",\"4\",..: 1 1 1 1 1 1 1 1 1 1 ...\n",
      " $ thal    : Factor w/ 4 levels \"1\",\"2\",\"3\",\"4\": 2 3 3 3 3 2 3 4 4 3 ...\n",
      " $ target  : Factor w/ 2 levels \"Healthy\",\"Unhealthy\": 2 2 2 2 2 2 2 2 2 2 ...\n"
     ]
    }
   ],
   "source": [
    "str(data)"
   ]
  },
  {
   "cell_type": "markdown",
   "id": "8a100e4d",
   "metadata": {},
   "source": [
    "- Nous somme dans le cas de classification , et on a 13 variables explicatives donc par défaut, randomForest() va définir mtry = sqrt(13) = 3.6 ≈ 3\n",
    "\n",
    "\n",
    "- Random forest aussi génère 500 arbres par défaut."
   ]
  },
  {
   "cell_type": "code",
   "execution_count": 8,
   "id": "b7dc872d",
   "metadata": {},
   "outputs": [],
   "source": [
    "model <- randomForest(target ~ ., data=data, proximity=TRUE)"
   ]
  },
  {
   "cell_type": "code",
   "execution_count": 9,
   "id": "27d8abc7",
   "metadata": {},
   "outputs": [
    {
     "data": {
      "text/plain": [
       "\n",
       "Call:\n",
       " randomForest(formula = target ~ ., data = data, proximity = TRUE) \n",
       "               Type of random forest: classification\n",
       "                     Number of trees: 500\n",
       "No. of variables tried at each split: 3\n",
       "\n",
       "        OOB estimate of  error rate: 16.83%\n",
       "Confusion matrix:\n",
       "          Healthy Unhealthy class.error\n",
       "Healthy       110        28   0.2028986\n",
       "Unhealthy      23       142   0.1393939"
      ]
     },
     "metadata": {},
     "output_type": "display_data"
    }
   ],
   "source": [
    "model"
   ]
  },
  {
   "cell_type": "markdown",
   "id": "1022bad1",
   "metadata": {},
   "source": [
    "Le model nous donne :\n",
    "- Le taux d'erreur OOB(16.83%) pour la forêt avec ntree(=500 par défaut) arbres. \n",
    "- La matrice de confusion pour la forêt avec des arbres ntree."
   ]
  },
  {
   "cell_type": "code",
   "execution_count": 10,
   "id": "e30dd887",
   "metadata": {},
   "outputs": [
    {
     "data": {
      "image/png": "[encoded data removed]",
      "text/plain": [
       "plot without title"
      ]
     },
     "metadata": {
      "image/png": {
       "height": 420,
       "width": 420
      }
     },
     "output_type": "display_data"
    }
   ],
   "source": [
    "oob.error.data <- data.frame(\n",
    "  Trees=rep(1:nrow(model$err.rate), times=3),\n",
    "  Type=rep(c(\"OOB\", \"Healthy\", \"Unhealthy\"), each=nrow(model$err.rate)),\n",
    "  Error=c(model$err.rate[,\"OOB\"], \n",
    "    model$err.rate[,\"Healthy\"], \n",
    "    model$err.rate[,\"Unhealthy\"]))\n",
    "\n",
    "ggplot(data=oob.error.data, aes(x=Trees, y=Error)) +\n",
    "  geom_line(aes(color=Type))"
   ]
  },
  {
   "cell_type": "markdown",
   "id": "2a3bd440",
   "metadata": {},
   "source": [
    "- Blue: montre le taux d'erreur lors de la classification des patients ayant des maladies cardiaques.\n",
    "\n",
    "\n",
    "- Rouge: montre le taux d'erreur lors de la classification des patients n'ayant pas des maladies cardiaques.\n",
    "\n",
    "\n",
    "- Vert: Le taux d'erreur global pour les patients OOB.\n",
    "\n",
    ">En général, on voit que le taux d'erreur diminue lorsque notre modèle a plus d'arbres.\n",
    "\n",
    "\n",
    "> Pour cela on va essayer d'ajouter plus d'arbres pour vérifier si l'error continuera a diminuer ou non."
   ]
  },
  {
   "cell_type": "markdown",
   "id": "4e6fb6ab",
   "metadata": {},
   "source": [
    "## Amélioration de la prédiction de Random Forest \n",
    "\n",
    "### Choix du ntree \n",
    "On entraine notre modèle avec 1000 arbres pour vérifier si l'error continuera a diminuer ou non."
   ]
  },
  {
   "cell_type": "code",
   "execution_count": 16,
   "id": "5b1e949c",
   "metadata": {},
   "outputs": [
    {
     "data": {
      "text/plain": [
       "\n",
       "Call:\n",
       " randomForest(formula = target ~ ., data = data, ntree = 1000,      proximity = TRUE) \n",
       "               Type of random forest: classification\n",
       "                     Number of trees: 1000\n",
       "No. of variables tried at each split: 3\n",
       "\n",
       "        OOB estimate of  error rate: 16.83%\n",
       "Confusion matrix:\n",
       "          Healthy Unhealthy class.error\n",
       "Healthy       109        29   0.2101449\n",
       "Unhealthy      22       143   0.1333333"
      ]
     },
     "metadata": {},
     "output_type": "display_data"
    }
   ],
   "source": [
    "model <- randomForest(target ~ ., data=data, ntree=1000, proximity=TRUE)\n",
    "model"
   ]
  },
  {
   "cell_type": "markdown",
   "id": "2be97987",
   "metadata": {},
   "source": [
    "Après avoir construit random forest avec 1000 arbres, nous obtenons un erreur OOB reste égale 16,17 % ."
   ]
  },
  {
   "cell_type": "code",
   "execution_count": 12,
   "id": "1721b991",
   "metadata": {},
   "outputs": [
    {
     "data": {
      "image/png": "[encoded data removed]",
      "text/plain": [
       "plot without title"
      ]
     },
     "metadata": {
      "image/png": {
       "height": 420,
       "width": 420
      }
     },
     "output_type": "display_data"
    }
   ],
   "source": [
    "oob.error.data <- data.frame(\n",
    "  Trees=rep(1:nrow(model$err.rate), times=3),\n",
    "  Type=rep(c(\"OOB\", \"Healthy\", \"Unhealthy\"), each=nrow(model$err.rate)),\n",
    "  Error=c(model$err.rate[,\"OOB\"], \n",
    "    model$err.rate[,\"Healthy\"], \n",
    "    model$err.rate[,\"Unhealthy\"]))\n",
    "\n",
    "ggplot(data=oob.error.data, aes(x=Trees, y=Error)) +\n",
    "  geom_line(aes(color=Type))"
   ]
  },
  {
   "cell_type": "markdown",
   "id": "ce1d44da",
   "metadata": {},
   "source": [
    "### Choix de mtry"
   ]
  },
  {
   "cell_type": "code",
   "execution_count": 13,
   "id": "1262eec5",
   "metadata": {},
   "outputs": [
    {
     "name": "stdout",
     "output_type": "stream",
     "text": [
      "mtry = 3  OOB error = 0% \n",
      "Searching left ...\n",
      "Searching right ...\n",
      "      mtry OOBError\n",
      "3.OOB    3        0\n"
     ]
    },
    {
     "data": {
      "image/png": "[encoded data removed]",
      "text/plain": [
       "plot without title"
      ]
     },
     "metadata": {
      "image/png": {
       "height": 420,
       "width": 420
      }
     },
     "output_type": "display_data"
    }
   ],
   "source": [
    "bestmtry <- tuneRF(data,data$target,stepFactor = 1.2,improve = 0.01,trace= T ,plot =T)\n",
    "print(bestmtry)"
   ]
  },
  {
   "cell_type": "markdown",
   "id": "4a3543c6",
   "metadata": {},
   "source": [
    "### Les variables importantes"
   ]
  },
  {
   "cell_type": "code",
   "execution_count": 14,
   "id": "e3edbecf",
   "metadata": {},
   "outputs": [
    {
     "data": {
      "image/png": "[encoded data removed]",
      "text/plain": [
       "Plot with title \"model\""
      ]
     },
     "metadata": {
      "image/png": {
       "height": 420,
       "width": 420
      }
     },
     "output_type": "display_data"
    }
   ],
   "source": [
    "varImpPlot(model)"
   ]
  }
 ],
 "metadata": {
  "kernelspec": {
   "display_name": "R",
   "language": "R",
   "name": "ir"
  },
  "language_info": {
   "codemirror_mode": "r",
   "file_extension": ".r",
   "mimetype": "text/x-r-source",
   "name": "R",
   "pygments_lexer": "r",
   "version": "4.0.5"
  }
 },
 "nbformat": 4,
 "nbformat_minor": 5
}
